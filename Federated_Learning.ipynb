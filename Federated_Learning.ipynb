{
 "cells": [
  {
   "cell_type": "code",
   "execution_count": 35,
   "id": "1f352bfe",
   "metadata": {},
   "outputs": [],
   "source": [
    "import torch\n",
    "from torchvision.datasets import MNIST\n",
    "from torch.utils.data import random_split, DataLoader\n",
    "import torchvision.transforms as transforms\n",
    "\n",
    "import matplotlib.pyplot as plt\n",
    "\n",
    "from tqdm import tqdm\n",
    "\n",
    "%matplotlib inline\n",
    "plt.rcParams['figure.figsize'] = [5, 5]"
   ]
  },
  {
   "cell_type": "markdown",
   "id": "ad0c5e97",
   "metadata": {},
   "source": [
    "## Load dataset"
   ]
  },
  {
   "cell_type": "code",
   "execution_count": 20,
   "id": "e5d6375e",
   "metadata": {},
   "outputs": [],
   "source": [
    "train_dataset = MNIST('/kaggle/working', train=True, download=True, transform=transforms.ToTensor())\n",
    "test_dataset = MNIST('/kaggle/working', train=False, download=True, transform=transforms.ToTensor())\n",
    "\n",
    "train_dataset, dev_dataset = random_split(train_dataset, [int(len(train_dataset) * 0.83), int(len(train_dataset) * 0.17)])"
   ]
  },
  {
   "cell_type": "code",
   "execution_count": 46,
   "id": "97c443ec",
   "metadata": {},
   "outputs": [],
   "source": [
    "total_train_size = len(train_dataset)\n",
    "total_test_size = len(test_dataset)\n",
    "total_dev_size = len(dev_dataset)\n",
    "\n",
    "classes = 10\n",
    "input_dim = 784\n",
    "\n",
    "num_clients = 8\n",
    "rounds = 20\n",
    "batch_size = 128\n",
    "epochs_per_client = 3\n",
    "learning_rate = 2e-2"
   ]
  },
  {
   "cell_type": "code",
   "execution_count": 22,
   "id": "5b13450e",
   "metadata": {},
   "outputs": [
    {
     "data": {
      "text/plain": [
       "(49800, 10200, 10000)"
      ]
     },
     "execution_count": 22,
     "metadata": {},
     "output_type": "execute_result"
    }
   ],
   "source": [
    "total_train_size, total_dev_size, total_test_size"
   ]
  },
  {
   "cell_type": "markdown",
   "id": "56e71d39",
   "metadata": {},
   "source": [
    "## Network"
   ]
  },
  {
   "cell_type": "code",
   "execution_count": 23,
   "id": "5ed6d223",
   "metadata": {},
   "outputs": [],
   "source": [
    "def get_device():\n",
    "    return torch.device('cuda') if torch.cuda.is_available() else torch.device('cpu')\n",
    "\n",
    "def to_device(data, device):\n",
    "    if isinstance(data, (list, tuple)):\n",
    "        return [to_device(x, device) for x in data]\n",
    "    return data.to(device, non_blocking=True)\n",
    "\n",
    "class DeviceDataLoader(DataLoader):\n",
    "        def __init__(self, dl, device):\n",
    "            self.dl = dl\n",
    "            self.device = device\n",
    "\n",
    "        def __iter__(self):\n",
    "            for batch in self.dl:\n",
    "                yield to_device(batch, self.device)\n",
    "\n",
    "        def __len__(self):\n",
    "            return len(self.dl)\n",
    "\n",
    "device = get_device()"
   ]
  },
  {
   "cell_type": "code",
   "execution_count": 40,
   "id": "55116749",
   "metadata": {},
   "outputs": [],
   "source": [
    "class FederatedNet(torch.nn.Module):    \n",
    "    def __init__(self):\n",
    "        super().__init__()\n",
    "        self.conv1 = torch.nn.Conv2d(1, 20, 7)\n",
    "        self.conv2 = torch.nn.Conv2d(20, 40, 7)\n",
    "        self.maxpool = torch.nn.MaxPool2d(2, 2)\n",
    "        self.flatten = torch.nn.Flatten()\n",
    "        self.linear = torch.nn.Linear(2560, 10)\n",
    "        self.non_linearity = torch.nn.functional.relu\n",
    "        self.track_layers = {'conv1': self.conv1, 'conv2': self.conv2, 'linear': self.linear}\n",
    "    \n",
    "    def forward(self, x_batch):\n",
    "        out = self.conv1(x_batch)\n",
    "        out = self.non_linearity(out)\n",
    "        out = self.conv2(out)\n",
    "        out = self.non_linearity(out)\n",
    "        out = self.maxpool(out)\n",
    "        out = self.flatten(out)\n",
    "        out = self.linear(out)\n",
    "        return out\n",
    "    \n",
    "    def get_track_layers(self):\n",
    "        return self.track_layers\n",
    "    \n",
    "    # i.e update global parameters from the averaged ones \n",
    "    def apply_parameters(self, parameters_dict):\n",
    "        with torch.no_grad():\n",
    "            for layer_name in parameters_dict:\n",
    "                self.track_layers[layer_name].weight.data *= 0\n",
    "                self.track_layers[layer_name].bias.data *= 0\n",
    "                self.track_layers[layer_name].weight.data += parameters_dict[layer_name]['weight']\n",
    "                self.track_layers[layer_name].bias.data += parameters_dict[layer_name]['bias']\n",
    "    \n",
    "    def get_parameters(self):\n",
    "        parameters_dict = dict()\n",
    "        for layer_name in self.track_layers:\n",
    "            parameters_dict[layer_name] = {\n",
    "                'weight': self.track_layers[layer_name].weight.data, \n",
    "                'bias': self.track_layers[layer_name].bias.data\n",
    "            }\n",
    "        return parameters_dict\n",
    "    \n",
    "    def batch_accuracy(self, outputs, labels):\n",
    "        with torch.no_grad():\n",
    "            _, predictions = torch.max(outputs, dim=1)\n",
    "            return torch.tensor(torch.sum(predictions == labels).item() / len(predictions))\n",
    "    \n",
    "    def _process_batch(self, batch):\n",
    "        images, labels = batch\n",
    "        outputs = self(images)\n",
    "        loss = torch.nn.functional.cross_entropy(outputs, labels)\n",
    "        accuracy = self.batch_accuracy(outputs, labels)\n",
    "        return (loss, accuracy)\n",
    "    \n",
    "    def fit(self, dataset, epochs, lr, batch_size=128, opt=torch.optim.SGD, verb=0):\n",
    "        dataloader = DeviceDataLoader(DataLoader(dataset, batch_size, shuffle=True), device)\n",
    "        optimizer = opt(self.parameters(), lr)\n",
    "        history = []\n",
    "        for epoch in tqdm(range(epochs), ascii=True, desc=\"Epoch {}\".format(epoch)):\n",
    "            losses = []\n",
    "            accs = []\n",
    "            for batch in dataloader:\n",
    "                loss, acc = self._process_batch(batch)\n",
    "                loss.backward()\n",
    "                optimizer.step()\n",
    "                optimizer.zero_grad()\n",
    "                loss.detach()\n",
    "                losses.append(loss)\n",
    "                accs.append(acc)\n",
    "            avg_loss = torch.stack(losses).mean().item()\n",
    "            avg_acc = torch.stack(accs).mean().item()\n",
    "            history.append((avg_loss, avg_acc))\n",
    "            if verb > 0: \n",
    "                print('Epoch {} avg_loss : {}, avg_acc : {}'.format(epoch + 1, avg_loss, avg_acc))\n",
    "        return history\n",
    "    \n",
    "    def evaluate(self, dataset, batch_size=128):\n",
    "        dataloader = DeviceDataLoader(DataLoader(dataset, batch_size), device)\n",
    "        losses = []\n",
    "        accs = []\n",
    "        with torch.no_grad():\n",
    "            for batch in dataloader:\n",
    "                loss, acc = self._process_batch(batch)\n",
    "                losses.append(loss)\n",
    "                accs.append(acc)\n",
    "        avg_loss = torch.stack(losses).mean().item()\n",
    "        avg_acc = torch.stack(accs).mean().item()\n",
    "        return (avg_loss, avg_acc)"
   ]
  },
  {
   "cell_type": "markdown",
   "id": "bbb56e9d",
   "metadata": {},
   "source": [
    "# General sum Model \n",
    "\n",
    "Summing all the available dataset into a single dataset. "
   ]
  },
  {
   "cell_type": "code",
   "execution_count": 41,
   "id": "0cd51f0d",
   "metadata": {},
   "outputs": [
    {
     "name": "stderr",
     "output_type": "stream",
     "text": [
      "100%|██████████| 390/390 [00:23<00:00, 16.47it/s]\n"
     ]
    },
    {
     "name": "stdout",
     "output_type": "stream",
     "text": [
      "Epoch 0 avg_loss : 0.6092694997787476, avg_acc : 0.8249399065971375\n"
     ]
    },
    {
     "name": "stderr",
     "output_type": "stream",
     "text": [
      "100%|██████████| 390/390 [00:24<00:00, 16.11it/s]\n"
     ]
    },
    {
     "name": "stdout",
     "output_type": "stream",
     "text": [
      "Epoch 1 avg_loss : 0.1815676987171173, avg_acc : 0.9473557472229004\n"
     ]
    },
    {
     "name": "stderr",
     "output_type": "stream",
     "text": [
      "100%|██████████| 390/390 [00:23<00:00, 16.32it/s]\n"
     ]
    },
    {
     "name": "stdout",
     "output_type": "stream",
     "text": [
      "Epoch 2 avg_loss : 0.12428489327430725, avg_acc : 0.963942289352417\n"
     ]
    },
    {
     "name": "stderr",
     "output_type": "stream",
     "text": [
      "100%|██████████| 390/390 [00:23<00:00, 16.41it/s]\n"
     ]
    },
    {
     "name": "stdout",
     "output_type": "stream",
     "text": [
      "Epoch 3 avg_loss : 0.09854010492563248, avg_acc : 0.9714743494987488\n"
     ]
    },
    {
     "name": "stderr",
     "output_type": "stream",
     "text": [
      "100%|██████████| 390/390 [00:24<00:00, 15.92it/s]\n"
     ]
    },
    {
     "name": "stdout",
     "output_type": "stream",
     "text": [
      "Epoch 4 avg_loss : 0.08470989018678665, avg_acc : 0.9753004908561707\n"
     ]
    },
    {
     "name": "stderr",
     "output_type": "stream",
     "text": [
      "100%|██████████| 390/390 [00:24<00:00, 15.98it/s]\n"
     ]
    },
    {
     "name": "stdout",
     "output_type": "stream",
     "text": [
      "Epoch 5 avg_loss : 0.07523505389690399, avg_acc : 0.9778445363044739\n"
     ]
    },
    {
     "name": "stderr",
     "output_type": "stream",
     "text": [
      "100%|██████████| 390/390 [00:24<00:00, 15.90it/s]\n"
     ]
    },
    {
     "name": "stdout",
     "output_type": "stream",
     "text": [
      "Epoch 6 avg_loss : 0.06897250562906265, avg_acc : 0.9797075390815735\n"
     ]
    },
    {
     "name": "stderr",
     "output_type": "stream",
     "text": [
      "100%|██████████| 390/390 [00:23<00:00, 16.32it/s]\n"
     ]
    },
    {
     "name": "stdout",
     "output_type": "stream",
     "text": [
      "Epoch 7 avg_loss : 0.0635882243514061, avg_acc : 0.981370210647583\n"
     ]
    },
    {
     "name": "stderr",
     "output_type": "stream",
     "text": [
      "100%|██████████| 390/390 [00:23<00:00, 16.29it/s]\n"
     ]
    },
    {
     "name": "stdout",
     "output_type": "stream",
     "text": [
      "Epoch 8 avg_loss : 0.05792345851659775, avg_acc : 0.9825119972229004\n"
     ]
    },
    {
     "name": "stderr",
     "output_type": "stream",
     "text": [
      "100%|██████████| 390/390 [00:24<00:00, 16.20it/s]\n"
     ]
    },
    {
     "name": "stdout",
     "output_type": "stream",
     "text": [
      "Epoch 9 avg_loss : 0.05358882620930672, avg_acc : 0.9839743375778198\n"
     ]
    },
    {
     "name": "stderr",
     "output_type": "stream",
     "text": [
      "100%|██████████| 390/390 [00:24<00:00, 15.69it/s]\n"
     ]
    },
    {
     "name": "stdout",
     "output_type": "stream",
     "text": [
      "Epoch 10 avg_loss : 0.05070085823535919, avg_acc : 0.9849759340286255\n"
     ]
    },
    {
     "name": "stderr",
     "output_type": "stream",
     "text": [
      "100%|██████████| 390/390 [00:25<00:00, 15.03it/s]\n"
     ]
    },
    {
     "name": "stdout",
     "output_type": "stream",
     "text": [
      "Epoch 11 avg_loss : 0.0482950396835804, avg_acc : 0.9851762652397156\n"
     ]
    },
    {
     "name": "stderr",
     "output_type": "stream",
     "text": [
      "100%|██████████| 390/390 [00:25<00:00, 15.44it/s]\n"
     ]
    },
    {
     "name": "stdout",
     "output_type": "stream",
     "text": [
      "Epoch 12 avg_loss : 0.046063803136348724, avg_acc : 0.9859575033187866\n"
     ]
    },
    {
     "name": "stderr",
     "output_type": "stream",
     "text": [
      "100%|██████████| 390/390 [00:25<00:00, 15.42it/s]\n"
     ]
    },
    {
     "name": "stdout",
     "output_type": "stream",
     "text": [
      "Epoch 13 avg_loss : 0.042952582240104675, avg_acc : 0.9878805875778198\n"
     ]
    },
    {
     "name": "stderr",
     "output_type": "stream",
     "text": [
      "100%|██████████| 390/390 [00:24<00:00, 15.84it/s]\n"
     ]
    },
    {
     "name": "stdout",
     "output_type": "stream",
     "text": [
      "Epoch 14 avg_loss : 0.04087304323911667, avg_acc : 0.9872796535491943\n"
     ]
    },
    {
     "name": "stderr",
     "output_type": "stream",
     "text": [
      "100%|██████████| 390/390 [00:25<00:00, 15.10it/s]\n"
     ]
    },
    {
     "name": "stdout",
     "output_type": "stream",
     "text": [
      "Epoch 15 avg_loss : 0.038987889885902405, avg_acc : 0.9883813858032227\n"
     ]
    },
    {
     "name": "stderr",
     "output_type": "stream",
     "text": [
      "100%|██████████| 390/390 [00:25<00:00, 15.48it/s]\n"
     ]
    },
    {
     "name": "stdout",
     "output_type": "stream",
     "text": [
      "Epoch 16 avg_loss : 0.03702929988503456, avg_acc : 0.9884214997291565\n"
     ]
    },
    {
     "name": "stderr",
     "output_type": "stream",
     "text": [
      "100%|██████████| 390/390 [00:25<00:00, 15.27it/s]\n"
     ]
    },
    {
     "name": "stdout",
     "output_type": "stream",
     "text": [
      "Epoch 17 avg_loss : 0.035422712564468384, avg_acc : 0.9893629550933838\n"
     ]
    },
    {
     "name": "stderr",
     "output_type": "stream",
     "text": [
      "100%|██████████| 390/390 [00:25<00:00, 15.01it/s]\n"
     ]
    },
    {
     "name": "stdout",
     "output_type": "stream",
     "text": [
      "Epoch 18 avg_loss : 0.033590756356716156, avg_acc : 0.9896434545516968\n"
     ]
    },
    {
     "name": "stderr",
     "output_type": "stream",
     "text": [
      "100%|██████████| 390/390 [00:25<00:00, 15.41it/s]\n"
     ]
    },
    {
     "name": "stdout",
     "output_type": "stream",
     "text": [
      "Epoch 19 avg_loss : 0.03288261219859123, avg_acc : 0.9896233677864075\n"
     ]
    },
    {
     "name": "stderr",
     "output_type": "stream",
     "text": [
      "100%|██████████| 390/390 [00:25<00:00, 15.12it/s]\n"
     ]
    },
    {
     "name": "stdout",
     "output_type": "stream",
     "text": [
      "Epoch 20 avg_loss : 0.04045133665204048, avg_acc : 0.9889423251152039\n"
     ]
    },
    {
     "name": "stderr",
     "output_type": "stream",
     "text": [
      "100%|██████████| 390/390 [00:25<00:00, 15.18it/s]\n"
     ]
    },
    {
     "name": "stdout",
     "output_type": "stream",
     "text": [
      "Epoch 21 avg_loss : 0.03064712882041931, avg_acc : 0.9909855723381042\n"
     ]
    },
    {
     "name": "stderr",
     "output_type": "stream",
     "text": [
      "100%|██████████| 390/390 [00:25<00:00, 15.53it/s]\n"
     ]
    },
    {
     "name": "stdout",
     "output_type": "stream",
     "text": [
      "Epoch 22 avg_loss : 0.0291324220597744, avg_acc : 0.9908252954483032\n"
     ]
    },
    {
     "name": "stderr",
     "output_type": "stream",
     "text": [
      "100%|██████████| 390/390 [00:25<00:00, 15.33it/s]\n"
     ]
    },
    {
     "name": "stdout",
     "output_type": "stream",
     "text": [
      "Epoch 23 avg_loss : 0.02733297273516655, avg_acc : 0.9917267560958862\n"
     ]
    },
    {
     "name": "stderr",
     "output_type": "stream",
     "text": [
      "100%|██████████| 390/390 [00:24<00:00, 15.61it/s]\n"
     ]
    },
    {
     "name": "stdout",
     "output_type": "stream",
     "text": [
      "Epoch 24 avg_loss : 0.026423955336213112, avg_acc : 0.9918269515037537\n"
     ]
    },
    {
     "name": "stderr",
     "output_type": "stream",
     "text": [
      "100%|██████████| 390/390 [00:25<00:00, 15.54it/s]\n"
     ]
    },
    {
     "name": "stdout",
     "output_type": "stream",
     "text": [
      "Epoch 25 avg_loss : 0.02541182190179825, avg_acc : 0.9923678040504456\n"
     ]
    },
    {
     "name": "stderr",
     "output_type": "stream",
     "text": [
      "100%|██████████| 390/390 [00:26<00:00, 14.81it/s]\n"
     ]
    },
    {
     "name": "stdout",
     "output_type": "stream",
     "text": [
      "Epoch 26 avg_loss : 0.024825140833854675, avg_acc : 0.9921674728393555\n"
     ]
    },
    {
     "name": "stderr",
     "output_type": "stream",
     "text": [
      "100%|██████████| 390/390 [00:25<00:00, 15.36it/s]\n"
     ]
    },
    {
     "name": "stdout",
     "output_type": "stream",
     "text": [
      "Epoch 27 avg_loss : 0.025470513850450516, avg_acc : 0.9921674728393555\n"
     ]
    },
    {
     "name": "stderr",
     "output_type": "stream",
     "text": [
      "100%|██████████| 390/390 [00:25<00:00, 15.46it/s]\n"
     ]
    },
    {
     "name": "stdout",
     "output_type": "stream",
     "text": [
      "Epoch 28 avg_loss : 0.0229304451495409, avg_acc : 0.9927283525466919\n"
     ]
    },
    {
     "name": "stderr",
     "output_type": "stream",
     "text": [
      "100%|██████████| 390/390 [00:24<00:00, 15.88it/s]\n"
     ]
    },
    {
     "name": "stdout",
     "output_type": "stream",
     "text": [
      "Epoch 29 avg_loss : 0.02286849170923233, avg_acc : 0.993088960647583\n",
      "Loss = 0.0229, Accuracy = 0.9931\n",
      "dev_loss = 0.0511, dev_acc = 0.9861\n",
      "\n"
     ]
    },
    {
     "data": {
      "text/plain": [
       "[(0.6092694997787476, 0.8249399065971375),\n",
       " (0.1815676987171173, 0.9473557472229004),\n",
       " (0.12428489327430725, 0.963942289352417),\n",
       " (0.09854010492563248, 0.9714743494987488),\n",
       " (0.08470989018678665, 0.9753004908561707),\n",
       " (0.07523505389690399, 0.9778445363044739),\n",
       " (0.06897250562906265, 0.9797075390815735),\n",
       " (0.0635882243514061, 0.981370210647583),\n",
       " (0.05792345851659775, 0.9825119972229004),\n",
       " (0.05358882620930672, 0.9839743375778198),\n",
       " (0.05070085823535919, 0.9849759340286255),\n",
       " (0.0482950396835804, 0.9851762652397156),\n",
       " (0.046063803136348724, 0.9859575033187866),\n",
       " (0.042952582240104675, 0.9878805875778198),\n",
       " (0.04087304323911667, 0.9872796535491943),\n",
       " (0.038987889885902405, 0.9883813858032227),\n",
       " (0.03702929988503456, 0.9884214997291565),\n",
       " (0.035422712564468384, 0.9893629550933838),\n",
       " (0.033590756356716156, 0.9896434545516968),\n",
       " (0.03288261219859123, 0.9896233677864075),\n",
       " (0.04045133665204048, 0.9889423251152039),\n",
       " (0.03064712882041931, 0.9909855723381042),\n",
       " (0.0291324220597744, 0.9908252954483032),\n",
       " (0.02733297273516655, 0.9917267560958862),\n",
       " (0.026423955336213112, 0.9918269515037537),\n",
       " (0.02541182190179825, 0.9923678040504456),\n",
       " (0.024825140833854675, 0.9921674728393555),\n",
       " (0.025470513850450516, 0.9921674728393555),\n",
       " (0.0229304451495409, 0.9927283525466919),\n",
       " (0.02286849170923233, 0.993088960647583)]"
      ]
     },
     "execution_count": 41,
     "metadata": {},
     "output_type": "execute_result"
    }
   ],
   "source": [
    "def sum_model_train():\n",
    "    sum_model = to_device(FederatedNet(), device)\n",
    "\n",
    "    train_history = sum_model.fit(train_dataset, 3*10, learning_rate, batch_size, verb=1)\n",
    "    #print('Loss = {}, Accuracy = {}'.format(round(train_history[-1][0], 4), round(train_history[-1][1], 4)))\n",
    "\n",
    "    dev_loss, dev_acc = sum_model.evaluate(dev_dataset)\n",
    "    print('dev_loss = {}, dev_acc = {}\\n'.format(round(dev_loss, 4), round(dev_acc, 4)))\n",
    "    \n",
    "    return train_history\n",
    "\n",
    "sum_model_train()"
   ]
  },
  {
   "cell_type": "markdown",
   "id": "7571de06",
   "metadata": {},
   "source": [
    "# Client"
   ]
  },
  {
   "cell_type": "markdown",
   "id": "3386dab3",
   "metadata": {},
   "source": [
    "### Cross-silo vs Cross-device FL\n",
    "\n",
    "__Cross-Silo__ : becomes relevant when there is a limited, albeit sizeable range (for instance, anywhere between two to a\n",
    "hundred) of participating entities like corporations or institutions (such as __hospitals__ and schools) that engage in learning\n",
    "by training a model on their local data.\n",
    "\n",
    "\n",
    "__Cross-Data__ : This configuration involves a multitude of small, geographically distributed devices, such as smartphones,\n",
    "smartwatches, and edge devices. The quantity of these devices can reach up to millions, each possessing a comparatively\n",
    "small amount of data and lower computational capabilities relative to the cross-silo FL paradigm.\n",
    "\n",
    "\n",
    "This MNIST example is more like Cross-Data setting "
   ]
  },
  {
   "cell_type": "code",
   "execution_count": 44,
   "id": "70ca6b06",
   "metadata": {},
   "outputs": [],
   "source": [
    "class Client:\n",
    "    def __init__(self, client_id, dataset):\n",
    "        self.client_id = client_id\n",
    "        self.dataset = dataset\n",
    "    \n",
    "    def get_dataset_size(self):\n",
    "        return len(self.dataset)\n",
    "    \n",
    "    def get_client_id(self):\n",
    "        return self.client_id\n",
    "    \n",
    "    def train(self, parameters_dict):\n",
    "        net = to_device(FederatedNet(), device)\n",
    "        net.apply_parameters(parameters_dict)\n",
    "        train_history = net.fit(self.dataset, epochs_per_client, learning_rate, batch_size)\n",
    "        print('{}: Loss = {}, Accuracy = {}'.format(self.client_id, round(train_history[-1][0], 4), round(train_history[-1][1], 4)))\n",
    "        return net.get_parameters() # gradients "
   ]
  },
  {
   "cell_type": "markdown",
   "id": "1d757582",
   "metadata": {},
   "source": [
    "### setup clients"
   ]
  },
  {
   "cell_type": "code",
   "execution_count": 26,
   "id": "5fa035f3",
   "metadata": {},
   "outputs": [
    {
     "data": {
      "text/plain": [
       "[<__main__.Client at 0x23116f551d0>,\n",
       " <__main__.Client at 0x23113d5c690>,\n",
       " <__main__.Client at 0x231173e9b90>,\n",
       " <__main__.Client at 0x231173e9ad0>,\n",
       " <__main__.Client at 0x231173e9d50>,\n",
       " <__main__.Client at 0x231173e84d0>,\n",
       " <__main__.Client at 0x231173e9ed0>,\n",
       " <__main__.Client at 0x231173ea550>]"
      ]
     },
     "execution_count": 26,
     "metadata": {},
     "output_type": "execute_result"
    }
   ],
   "source": [
    "examples_per_client = total_train_size // num_clients\n",
    "\n",
    "client_datasets = random_split(train_dataset, [min(i + examples_per_client, \n",
    "           total_train_size) - i for i in range(0, total_train_size, examples_per_client)])\n",
    "\n",
    "clients = [Client('client_' + str(i), client_datasets[i]) for i in range(num_clients)]\n",
    "clients "
   ]
  },
  {
   "cell_type": "markdown",
   "id": "0f3961ba",
   "metadata": {},
   "source": [
    "# Federated Learning"
   ]
  },
  {
   "attachments": {
    "centralized_FL_illu.PNG": {
     "image/png": "[encoded data removed]"
    }
   },
   "cell_type": "markdown",
   "id": "c60e00c3",
   "metadata": {},
   "source": [
    "![centralized_FL_illu.PNG](attachment:centralized_FL_illu.PNG)"
   ]
  },
  {
   "cell_type": "markdown",
   "id": "bf1aef9d",
   "metadata": {},
   "source": [
    "### The general Federated Learning algorithm: \n",
    "\n",
    "\\begin{align*} \n",
    "    \\min_{w\\in\\mathcal{R}^d} f(w) \\;\\;\\;\\;\\; \\text{where} \\;\\;\\;\\;\\; f(w) \\triangleq \\frac{1}{n} \\sum_{i=1}^n f_i(w)\n",
    "\\end{align*}\n",
    "\n",
    "in ml, typically $f_i(w) = loss(x_i,y_i,w)$,  in this notebook $loss$ is **cross entropy**\n",
    "\n",
    "\n",
    "We assume there are K clients over which the data is partitioned, with $P_k$ the set of indexes of data points on client k, with $n_k = |P_k|$. Thus, we can re-write the objective  as \n",
    "\\begin{align*}\n",
    "    f(w) = \\sum_{k=1}^{K} \\frac{n_k}{n} F_k(w)  \\;\\;\\;\\;\\; \\text{where} \\;\\;\\;\\;\\; F_k(w) = \\frac{1}{n_k} \\sum_{i \\in P_k} f_i(w)\n",
    "\\end{align*}\n",
    "\n",
    "### FedAveraging \n",
    "$\\eta$ = learning rate, \n",
    "each client $k$ computes $g_k = \\nabla F_k(w_t)$ the average gradient on its local data at the current model $w_t$, and the central server aggregates these gradients and applies the update : \n",
    "\\begin{align*}\n",
    "    \\forall k\\;, w_{t+1}^k \\leftarrow w_t - \\eta g_k  \\;\\;\\;\\; \\text{then} \\;\\;\\;\\; w_{t+1} \\leftarrow \\sum_{k=1}^K \\frac{n_k}{n} w_{t+1}^k \n",
    "\\end{align*}\n",
    "\n",
    "That is, each client locally takes one step of gradient descent on the current model using its local data, and the server then takes a weighted average of the resulting models."
   ]
  },
  {
   "cell_type": "code",
   "execution_count": 50,
   "id": "dc47d82a",
   "metadata": {},
   "outputs": [
    {
     "name": "stdout",
     "output_type": "stream",
     "text": [
      "Start Round 1 ...\n"
     ]
    },
    {
     "name": "stderr",
     "output_type": "stream",
     "text": [
      "100%|██████████| 49/49 [00:03<00:00, 16.26it/s]\n",
      "100%|██████████| 49/49 [00:02<00:00, 16.57it/s]\n",
      "100%|██████████| 49/49 [00:03<00:00, 16.07it/s]\n"
     ]
    },
    {
     "name": "stdout",
     "output_type": "stream",
     "text": [
      "client_0: Loss = 0.499, Accuracy = 0.8453\n"
     ]
    },
    {
     "name": "stderr",
     "output_type": "stream",
     "text": [
      "100%|██████████| 49/49 [00:03<00:00, 15.68it/s]\n",
      "100%|██████████| 49/49 [00:03<00:00, 15.17it/s]\n",
      "100%|██████████| 49/49 [00:03<00:00, 15.38it/s]\n"
     ]
    },
    {
     "name": "stdout",
     "output_type": "stream",
     "text": [
      "client_1: Loss = 0.4883, Accuracy = 0.8502\n"
     ]
    },
    {
     "name": "stderr",
     "output_type": "stream",
     "text": [
      "100%|██████████| 49/49 [00:03<00:00, 15.13it/s]\n",
      "100%|██████████| 49/49 [00:03<00:00, 15.40it/s]\n",
      "100%|██████████| 49/49 [00:03<00:00, 15.95it/s]\n"
     ]
    },
    {
     "name": "stdout",
     "output_type": "stream",
     "text": [
      "client_2: Loss = 0.5066, Accuracy = 0.8416\n"
     ]
    },
    {
     "name": "stderr",
     "output_type": "stream",
     "text": [
      "100%|██████████| 49/49 [00:03<00:00, 16.19it/s]\n",
      "100%|██████████| 49/49 [00:03<00:00, 15.86it/s]\n",
      "100%|██████████| 49/49 [00:03<00:00, 16.20it/s]\n"
     ]
    },
    {
     "name": "stdout",
     "output_type": "stream",
     "text": [
      "client_3: Loss = 0.4871, Accuracy = 0.8542\n"
     ]
    },
    {
     "name": "stderr",
     "output_type": "stream",
     "text": [
      "100%|██████████| 49/49 [00:03<00:00, 15.92it/s]\n",
      "100%|██████████| 49/49 [00:03<00:00, 16.11it/s]\n",
      "100%|██████████| 49/49 [00:03<00:00, 15.85it/s]\n"
     ]
    },
    {
     "name": "stdout",
     "output_type": "stream",
     "text": [
      "client_4: Loss = 0.4771, Accuracy = 0.8557\n"
     ]
    },
    {
     "name": "stderr",
     "output_type": "stream",
     "text": [
      "100%|██████████| 49/49 [00:03<00:00, 15.66it/s]\n",
      "100%|██████████| 49/49 [00:03<00:00, 15.48it/s]\n",
      "100%|██████████| 49/49 [00:03<00:00, 15.17it/s]\n"
     ]
    },
    {
     "name": "stdout",
     "output_type": "stream",
     "text": [
      "client_5: Loss = 0.5046, Accuracy = 0.8411\n"
     ]
    },
    {
     "name": "stderr",
     "output_type": "stream",
     "text": [
      "100%|██████████| 49/49 [00:03<00:00, 15.98it/s]\n",
      "100%|██████████| 49/49 [00:03<00:00, 15.87it/s]\n",
      "100%|██████████| 49/49 [00:03<00:00, 15.90it/s]\n"
     ]
    },
    {
     "name": "stdout",
     "output_type": "stream",
     "text": [
      "client_6: Loss = 0.503, Accuracy = 0.8483\n"
     ]
    },
    {
     "name": "stderr",
     "output_type": "stream",
     "text": [
      "100%|██████████| 49/49 [00:03<00:00, 15.86it/s]\n",
      "100%|██████████| 49/49 [00:03<00:00, 15.36it/s]\n",
      "100%|██████████| 49/49 [00:03<00:00, 15.20it/s]\n"
     ]
    },
    {
     "name": "stdout",
     "output_type": "stream",
     "text": [
      "client_7: Loss = 0.5087, Accuracy = 0.8411\n",
      "After round 1, train_loss = 0.4013, dev_loss = 0.3922, dev_acc = 0.8875\n",
      "\n",
      "Start Round 2 ...\n"
     ]
    },
    {
     "name": "stderr",
     "output_type": "stream",
     "text": [
      "100%|██████████| 49/49 [00:03<00:00, 16.24it/s]\n",
      "100%|██████████| 49/49 [00:03<00:00, 15.72it/s]\n",
      "100%|██████████| 49/49 [00:03<00:00, 16.04it/s]\n"
     ]
    },
    {
     "name": "stdout",
     "output_type": "stream",
     "text": [
      "client_0: Loss = 0.315, Accuracy = 0.9067\n"
     ]
    },
    {
     "name": "stderr",
     "output_type": "stream",
     "text": [
      "100%|██████████| 49/49 [00:03<00:00, 15.54it/s]\n",
      "100%|██████████| 49/49 [00:03<00:00, 15.29it/s]\n",
      "100%|██████████| 49/49 [00:03<00:00, 15.75it/s]\n"
     ]
    },
    {
     "name": "stdout",
     "output_type": "stream",
     "text": [
      "client_1: Loss = 0.2952, Accuracy = 0.9111\n"
     ]
    },
    {
     "name": "stderr",
     "output_type": "stream",
     "text": [
      "100%|██████████| 49/49 [00:03<00:00, 15.30it/s]\n",
      "100%|██████████| 49/49 [00:03<00:00, 15.52it/s]\n",
      "100%|██████████| 49/49 [00:03<00:00, 16.23it/s]\n"
     ]
    },
    {
     "name": "stdout",
     "output_type": "stream",
     "text": [
      "client_2: Loss = 0.3186, Accuracy = 0.9091\n"
     ]
    },
    {
     "name": "stderr",
     "output_type": "stream",
     "text": [
      "100%|██████████| 49/49 [00:02<00:00, 16.39it/s]\n",
      "100%|██████████| 49/49 [00:03<00:00, 16.17it/s]\n",
      "100%|██████████| 49/49 [00:03<00:00, 16.04it/s]\n"
     ]
    },
    {
     "name": "stdout",
     "output_type": "stream",
     "text": [
      "client_3: Loss = 0.3069, Accuracy = 0.9119\n"
     ]
    },
    {
     "name": "stderr",
     "output_type": "stream",
     "text": [
      "100%|██████████| 49/49 [00:03<00:00, 15.56it/s]\n",
      "100%|██████████| 49/49 [00:03<00:00, 15.99it/s]\n",
      "100%|██████████| 49/49 [00:03<00:00, 16.19it/s]\n"
     ]
    },
    {
     "name": "stdout",
     "output_type": "stream",
     "text": [
      "client_4: Loss = 0.3023, Accuracy = 0.9114\n"
     ]
    },
    {
     "name": "stderr",
     "output_type": "stream",
     "text": [
      "100%|██████████| 49/49 [00:03<00:00, 16.02it/s]\n",
      "100%|██████████| 49/49 [00:03<00:00, 15.95it/s]\n",
      "100%|██████████| 49/49 [00:03<00:00, 15.35it/s]\n"
     ]
    },
    {
     "name": "stdout",
     "output_type": "stream",
     "text": [
      "client_5: Loss = 0.3037, Accuracy = 0.9097\n"
     ]
    },
    {
     "name": "stderr",
     "output_type": "stream",
     "text": [
      "100%|██████████| 49/49 [00:03<00:00, 16.17it/s]\n",
      "100%|██████████| 49/49 [00:03<00:00, 15.12it/s]\n",
      "100%|██████████| 49/49 [00:03<00:00, 15.97it/s]\n"
     ]
    },
    {
     "name": "stdout",
     "output_type": "stream",
     "text": [
      "client_6: Loss = 0.3143, Accuracy = 0.9092\n"
     ]
    },
    {
     "name": "stderr",
     "output_type": "stream",
     "text": [
      "100%|██████████| 49/49 [00:03<00:00, 15.43it/s]\n",
      "100%|██████████| 49/49 [00:03<00:00, 14.94it/s]\n",
      "100%|██████████| 49/49 [00:03<00:00, 15.43it/s]\n"
     ]
    },
    {
     "name": "stdout",
     "output_type": "stream",
     "text": [
      "client_7: Loss = 0.3191, Accuracy = 0.9038\n",
      "After round 2, train_loss = 0.2831, dev_loss = 0.2804, dev_acc = 0.9217\n",
      "\n",
      "Start Round 3 ...\n"
     ]
    },
    {
     "name": "stderr",
     "output_type": "stream",
     "text": [
      "100%|██████████| 49/49 [00:03<00:00, 15.41it/s]\n",
      "100%|██████████| 49/49 [00:03<00:00, 15.44it/s]\n",
      "100%|██████████| 49/49 [00:03<00:00, 15.38it/s]\n"
     ]
    },
    {
     "name": "stdout",
     "output_type": "stream",
     "text": [
      "client_0: Loss = 0.2273, Accuracy = 0.9338\n"
     ]
    },
    {
     "name": "stderr",
     "output_type": "stream",
     "text": [
      "100%|██████████| 49/49 [00:03<00:00, 15.31it/s]\n",
      "100%|██████████| 49/49 [00:03<00:00, 13.97it/s]\n",
      "100%|██████████| 49/49 [00:03<00:00, 14.60it/s]\n"
     ]
    },
    {
     "name": "stdout",
     "output_type": "stream",
     "text": [
      "client_1: Loss = 0.2185, Accuracy = 0.9382\n"
     ]
    },
    {
     "name": "stderr",
     "output_type": "stream",
     "text": [
      "100%|██████████| 49/49 [00:03<00:00, 14.78it/s]\n",
      "100%|██████████| 49/49 [00:03<00:00, 15.71it/s]\n",
      "100%|██████████| 49/49 [00:03<00:00, 15.53it/s]\n"
     ]
    },
    {
     "name": "stdout",
     "output_type": "stream",
     "text": [
      "client_2: Loss = 0.2345, Accuracy = 0.9357\n"
     ]
    },
    {
     "name": "stderr",
     "output_type": "stream",
     "text": [
      "100%|██████████| 49/49 [00:03<00:00, 15.75it/s]\n",
      "100%|██████████| 49/49 [00:03<00:00, 15.72it/s]\n",
      "100%|██████████| 49/49 [00:03<00:00, 15.73it/s]\n"
     ]
    },
    {
     "name": "stdout",
     "output_type": "stream",
     "text": [
      "client_3: Loss = 0.2201, Accuracy = 0.9383\n"
     ]
    },
    {
     "name": "stderr",
     "output_type": "stream",
     "text": [
      "100%|██████████| 49/49 [00:03<00:00, 15.52it/s]\n",
      "100%|██████████| 49/49 [00:03<00:00, 15.61it/s]\n",
      "100%|██████████| 49/49 [00:03<00:00, 15.50it/s]\n"
     ]
    },
    {
     "name": "stdout",
     "output_type": "stream",
     "text": [
      "client_4: Loss = 0.2212, Accuracy = 0.9311\n"
     ]
    },
    {
     "name": "stderr",
     "output_type": "stream",
     "text": [
      "100%|██████████| 49/49 [00:03<00:00, 15.63it/s]\n",
      "100%|██████████| 49/49 [00:03<00:00, 15.59it/s]\n",
      "100%|██████████| 49/49 [00:03<00:00, 15.69it/s]\n"
     ]
    },
    {
     "name": "stdout",
     "output_type": "stream",
     "text": [
      "client_5: Loss = 0.2184, Accuracy = 0.9337\n"
     ]
    },
    {
     "name": "stderr",
     "output_type": "stream",
     "text": [
      "100%|██████████| 49/49 [00:03<00:00, 14.37it/s]\n",
      "100%|██████████| 49/49 [00:03<00:00, 14.61it/s]\n",
      "100%|██████████| 49/49 [00:03<00:00, 14.79it/s]\n"
     ]
    },
    {
     "name": "stdout",
     "output_type": "stream",
     "text": [
      "client_6: Loss = 0.2332, Accuracy = 0.9329\n"
     ]
    },
    {
     "name": "stderr",
     "output_type": "stream",
     "text": [
      "100%|██████████| 49/49 [00:03<00:00, 14.93it/s]\n",
      "100%|██████████| 49/49 [00:03<00:00, 15.06it/s]\n",
      "100%|██████████| 49/49 [00:03<00:00, 14.33it/s]\n"
     ]
    },
    {
     "name": "stdout",
     "output_type": "stream",
     "text": [
      "client_7: Loss = 0.2336, Accuracy = 0.9342\n",
      "After round 3, train_loss = 0.2142, dev_loss = 0.2144, dev_acc = 0.9399\n",
      "\n",
      "Start Round 4 ...\n"
     ]
    },
    {
     "name": "stderr",
     "output_type": "stream",
     "text": [
      "100%|██████████| 49/49 [00:03<00:00, 14.90it/s]\n",
      "100%|██████████| 49/49 [00:03<00:00, 15.55it/s]\n",
      "100%|██████████| 49/49 [00:03<00:00, 15.55it/s]\n"
     ]
    },
    {
     "name": "stdout",
     "output_type": "stream",
     "text": [
      "client_0: Loss = 0.1784, Accuracy = 0.9471\n"
     ]
    },
    {
     "name": "stderr",
     "output_type": "stream",
     "text": [
      "100%|██████████| 49/49 [00:03<00:00, 15.70it/s]\n",
      "100%|██████████| 49/49 [00:03<00:00, 15.74it/s]\n",
      "100%|██████████| 49/49 [00:03<00:00, 15.41it/s]\n"
     ]
    },
    {
     "name": "stdout",
     "output_type": "stream",
     "text": [
      "client_1: Loss = 0.1672, Accuracy = 0.9505\n"
     ]
    },
    {
     "name": "stderr",
     "output_type": "stream",
     "text": [
      "100%|██████████| 49/49 [00:03<00:00, 15.10it/s]\n",
      "100%|██████████| 49/49 [00:03<00:00, 15.85it/s]\n",
      "100%|██████████| 49/49 [00:03<00:00, 15.88it/s]\n"
     ]
    },
    {
     "name": "stdout",
     "output_type": "stream",
     "text": [
      "client_2: Loss = 0.1844, Accuracy = 0.9516\n"
     ]
    },
    {
     "name": "stderr",
     "output_type": "stream",
     "text": [
      "100%|██████████| 49/49 [00:03<00:00, 16.01it/s]\n",
      "100%|██████████| 49/49 [00:03<00:00, 15.01it/s]\n",
      "100%|██████████| 49/49 [00:03<00:00, 15.37it/s]\n"
     ]
    },
    {
     "name": "stdout",
     "output_type": "stream",
     "text": [
      "client_3: Loss = 0.1728, Accuracy = 0.952\n"
     ]
    },
    {
     "name": "stderr",
     "output_type": "stream",
     "text": [
      "100%|██████████| 49/49 [00:03<00:00, 15.30it/s]\n",
      "100%|██████████| 49/49 [00:03<00:00, 14.15it/s]\n",
      "100%|██████████| 49/49 [00:03<00:00, 15.74it/s]\n"
     ]
    },
    {
     "name": "stdout",
     "output_type": "stream",
     "text": [
      "client_4: Loss = 0.1693, Accuracy = 0.9515\n"
     ]
    },
    {
     "name": "stderr",
     "output_type": "stream",
     "text": [
      "100%|██████████| 49/49 [00:03<00:00, 15.93it/s]\n",
      "100%|██████████| 49/49 [00:03<00:00, 16.18it/s]\n",
      "100%|██████████| 49/49 [00:03<00:00, 15.83it/s]\n"
     ]
    },
    {
     "name": "stdout",
     "output_type": "stream",
     "text": [
      "client_5: Loss = 0.1696, Accuracy = 0.9486\n"
     ]
    },
    {
     "name": "stderr",
     "output_type": "stream",
     "text": [
      "100%|██████████| 49/49 [00:03<00:00, 15.69it/s]\n",
      "100%|██████████| 49/49 [00:03<00:00, 16.16it/s]\n",
      "100%|██████████| 49/49 [00:03<00:00, 15.62it/s]\n"
     ]
    },
    {
     "name": "stdout",
     "output_type": "stream",
     "text": [
      "client_6: Loss = 0.1849, Accuracy = 0.946\n"
     ]
    },
    {
     "name": "stderr",
     "output_type": "stream",
     "text": [
      "100%|██████████| 49/49 [00:03<00:00, 15.76it/s]\n",
      "100%|██████████| 49/49 [00:03<00:00, 15.35it/s]\n",
      "100%|██████████| 49/49 [00:03<00:00, 15.27it/s]\n"
     ]
    },
    {
     "name": "stdout",
     "output_type": "stream",
     "text": [
      "client_7: Loss = 0.1839, Accuracy = 0.9506\n",
      "After round 4, train_loss = 0.1698, dev_loss = 0.1738, dev_acc = 0.9501\n",
      "\n",
      "Start Round 5 ...\n"
     ]
    },
    {
     "name": "stderr",
     "output_type": "stream",
     "text": [
      "100%|██████████| 49/49 [00:03<00:00, 15.76it/s]\n",
      "100%|██████████| 49/49 [00:03<00:00, 15.24it/s]\n",
      "100%|██████████| 49/49 [00:03<00:00, 15.91it/s]\n"
     ]
    },
    {
     "name": "stdout",
     "output_type": "stream",
     "text": [
      "client_0: Loss = 0.1442, Accuracy = 0.9575\n"
     ]
    },
    {
     "name": "stderr",
     "output_type": "stream",
     "text": [
      "100%|██████████| 49/49 [00:03<00:00, 15.91it/s]\n",
      "100%|██████████| 49/49 [00:03<00:00, 15.82it/s]\n",
      "100%|██████████| 49/49 [00:03<00:00, 15.81it/s]\n"
     ]
    },
    {
     "name": "stdout",
     "output_type": "stream",
     "text": [
      "client_1: Loss = 0.1378, Accuracy = 0.9598\n"
     ]
    },
    {
     "name": "stderr",
     "output_type": "stream",
     "text": [
      "100%|██████████| 49/49 [00:03<00:00, 15.69it/s]\n",
      "100%|██████████| 49/49 [00:03<00:00, 15.60it/s]\n",
      "100%|██████████| 49/49 [00:03<00:00, 16.17it/s]\n"
     ]
    },
    {
     "name": "stdout",
     "output_type": "stream",
     "text": [
      "client_2: Loss = 0.1538, Accuracy = 0.9583\n"
     ]
    },
    {
     "name": "stderr",
     "output_type": "stream",
     "text": [
      "100%|██████████| 49/49 [00:03<00:00, 15.36it/s]\n",
      "100%|██████████| 49/49 [00:03<00:00, 15.64it/s]\n",
      "100%|██████████| 49/49 [00:03<00:00, 15.47it/s]\n"
     ]
    },
    {
     "name": "stdout",
     "output_type": "stream",
     "text": [
      "client_3: Loss = 0.1419, Accuracy = 0.9596\n"
     ]
    },
    {
     "name": "stderr",
     "output_type": "stream",
     "text": [
      "100%|██████████| 49/49 [00:03<00:00, 15.39it/s]\n",
      "100%|██████████| 49/49 [00:03<00:00, 15.32it/s]\n",
      "100%|██████████| 49/49 [00:03<00:00, 15.70it/s]\n"
     ]
    },
    {
     "name": "stdout",
     "output_type": "stream",
     "text": [
      "client_4: Loss = 0.1377, Accuracy = 0.9601\n"
     ]
    },
    {
     "name": "stderr",
     "output_type": "stream",
     "text": [
      "100%|██████████| 49/49 [00:03<00:00, 15.48it/s]\n",
      "100%|██████████| 49/49 [00:03<00:00, 16.18it/s]\n",
      "100%|██████████| 49/49 [00:03<00:00, 15.92it/s]\n"
     ]
    },
    {
     "name": "stdout",
     "output_type": "stream",
     "text": [
      "client_5: Loss = 0.1382, Accuracy = 0.9592\n"
     ]
    },
    {
     "name": "stderr",
     "output_type": "stream",
     "text": [
      "100%|██████████| 49/49 [00:03<00:00, 15.88it/s]\n",
      "100%|██████████| 49/49 [00:03<00:00, 15.75it/s]\n",
      "100%|██████████| 49/49 [00:03<00:00, 16.12it/s]\n"
     ]
    },
    {
     "name": "stdout",
     "output_type": "stream",
     "text": [
      "client_6: Loss = 0.1515, Accuracy = 0.9579\n"
     ]
    },
    {
     "name": "stderr",
     "output_type": "stream",
     "text": [
      "100%|██████████| 49/49 [00:03<00:00, 15.97it/s]\n",
      "100%|██████████| 49/49 [00:03<00:00, 15.48it/s]\n",
      "100%|██████████| 49/49 [00:03<00:00, 15.84it/s]\n"
     ]
    },
    {
     "name": "stdout",
     "output_type": "stream",
     "text": [
      "client_7: Loss = 0.1509, Accuracy = 0.9596\n",
      "After round 5, train_loss = 0.1407, dev_loss = 0.1459, dev_acc = 0.9582\n",
      "\n",
      "Start Round 6 ...\n"
     ]
    },
    {
     "name": "stderr",
     "output_type": "stream",
     "text": [
      "100%|██████████| 49/49 [00:03<00:00, 15.54it/s]\n",
      "100%|██████████| 49/49 [00:03<00:00, 14.94it/s]\n",
      "100%|██████████| 49/49 [00:03<00:00, 15.79it/s]\n"
     ]
    },
    {
     "name": "stdout",
     "output_type": "stream",
     "text": [
      "client_0: Loss = 0.1249, Accuracy = 0.9617\n"
     ]
    },
    {
     "name": "stderr",
     "output_type": "stream",
     "text": [
      "100%|██████████| 49/49 [00:03<00:00, 15.54it/s]\n",
      "100%|██████████| 49/49 [00:03<00:00, 15.50it/s]\n",
      "100%|██████████| 49/49 [00:03<00:00, 15.68it/s]\n"
     ]
    },
    {
     "name": "stdout",
     "output_type": "stream",
     "text": [
      "client_1: Loss = 0.1157, Accuracy = 0.967\n"
     ]
    },
    {
     "name": "stderr",
     "output_type": "stream",
     "text": [
      "100%|██████████| 49/49 [00:03<00:00, 16.04it/s]\n",
      "100%|██████████| 49/49 [00:02<00:00, 17.50it/s]\n",
      "100%|██████████| 49/49 [00:02<00:00, 16.38it/s]\n"
     ]
    },
    {
     "name": "stdout",
     "output_type": "stream",
     "text": [
      "client_2: Loss = 0.1326, Accuracy = 0.9637\n"
     ]
    },
    {
     "name": "stderr",
     "output_type": "stream",
     "text": [
      "100%|██████████| 49/49 [00:02<00:00, 16.94it/s]\n",
      "100%|██████████| 49/49 [00:02<00:00, 17.14it/s]\n",
      "100%|██████████| 49/49 [00:02<00:00, 17.07it/s]\n"
     ]
    },
    {
     "name": "stdout",
     "output_type": "stream",
     "text": [
      "client_3: Loss = 0.1236, Accuracy = 0.9653\n"
     ]
    },
    {
     "name": "stderr",
     "output_type": "stream",
     "text": [
      "100%|██████████| 49/49 [00:02<00:00, 16.70it/s]\n",
      "100%|██████████| 49/49 [00:02<00:00, 16.99it/s]\n",
      "100%|██████████| 49/49 [00:03<00:00, 16.17it/s]\n"
     ]
    },
    {
     "name": "stdout",
     "output_type": "stream",
     "text": [
      "client_4: Loss = 0.117, Accuracy = 0.9675\n"
     ]
    },
    {
     "name": "stderr",
     "output_type": "stream",
     "text": [
      "100%|██████████| 49/49 [00:03<00:00, 16.28it/s]\n",
      "100%|██████████| 49/49 [00:03<00:00, 16.06it/s]\n",
      "100%|██████████| 49/49 [00:03<00:00, 16.23it/s]\n"
     ]
    },
    {
     "name": "stdout",
     "output_type": "stream",
     "text": [
      "client_5: Loss = 0.1166, Accuracy = 0.9649\n"
     ]
    },
    {
     "name": "stderr",
     "output_type": "stream",
     "text": [
      "100%|██████████| 49/49 [00:02<00:00, 16.53it/s]\n",
      "100%|██████████| 49/49 [00:02<00:00, 16.39it/s]\n",
      "100%|██████████| 49/49 [00:03<00:00, 15.28it/s]\n"
     ]
    },
    {
     "name": "stdout",
     "output_type": "stream",
     "text": [
      "client_6: Loss = 0.1315, Accuracy = 0.965\n"
     ]
    },
    {
     "name": "stderr",
     "output_type": "stream",
     "text": [
      "100%|██████████| 49/49 [00:03<00:00, 16.27it/s]\n",
      "100%|██████████| 49/49 [00:03<00:00, 16.20it/s]\n",
      "100%|██████████| 49/49 [00:02<00:00, 16.80it/s]\n"
     ]
    },
    {
     "name": "stdout",
     "output_type": "stream",
     "text": [
      "client_7: Loss = 0.1302, Accuracy = 0.9657\n",
      "After round 6, train_loss = 0.1232, dev_loss = 0.1292, dev_acc = 0.9622\n",
      "\n",
      "Start Round 7 ...\n"
     ]
    },
    {
     "name": "stderr",
     "output_type": "stream",
     "text": [
      "100%|██████████| 49/49 [00:03<00:00, 16.23it/s]\n",
      "100%|██████████| 49/49 [00:03<00:00, 15.21it/s]\n",
      "100%|██████████| 49/49 [00:02<00:00, 16.67it/s]\n"
     ]
    },
    {
     "name": "stdout",
     "output_type": "stream",
     "text": [
      "client_0: Loss = 0.107, Accuracy = 0.9675\n"
     ]
    },
    {
     "name": "stderr",
     "output_type": "stream",
     "text": [
      "100%|██████████| 49/49 [00:02<00:00, 16.42it/s]\n",
      "100%|██████████| 49/49 [00:02<00:00, 16.50it/s]\n",
      "100%|██████████| 49/49 [00:03<00:00, 16.22it/s]\n"
     ]
    },
    {
     "name": "stdout",
     "output_type": "stream",
     "text": [
      "client_1: Loss = 0.1014, Accuracy = 0.9712\n"
     ]
    },
    {
     "name": "stderr",
     "output_type": "stream",
     "text": [
      "100%|██████████| 49/49 [00:03<00:00, 16.06it/s]\n",
      "100%|██████████| 49/49 [00:03<00:00, 15.85it/s]\n",
      "100%|██████████| 49/49 [00:02<00:00, 16.50it/s]\n"
     ]
    },
    {
     "name": "stdout",
     "output_type": "stream",
     "text": [
      "client_2: Loss = 0.1164, Accuracy = 0.9696\n"
     ]
    },
    {
     "name": "stderr",
     "output_type": "stream",
     "text": [
      "100%|██████████| 49/49 [00:02<00:00, 16.37it/s]\n",
      "100%|██████████| 49/49 [00:02<00:00, 16.71it/s]\n",
      "100%|██████████| 49/49 [00:02<00:00, 16.61it/s]\n"
     ]
    },
    {
     "name": "stdout",
     "output_type": "stream",
     "text": [
      "client_3: Loss = 0.1093, Accuracy = 0.9691\n"
     ]
    },
    {
     "name": "stderr",
     "output_type": "stream",
     "text": [
      "100%|██████████| 49/49 [00:03<00:00, 15.53it/s]\n",
      "100%|██████████| 49/49 [00:03<00:00, 15.89it/s]\n",
      "100%|██████████| 49/49 [00:03<00:00, 16.31it/s]\n"
     ]
    },
    {
     "name": "stdout",
     "output_type": "stream",
     "text": [
      "client_4: Loss = 0.1017, Accuracy = 0.9697\n"
     ]
    },
    {
     "name": "stderr",
     "output_type": "stream",
     "text": [
      "100%|██████████| 49/49 [00:02<00:00, 16.75it/s]\n",
      "100%|██████████| 49/49 [00:02<00:00, 17.13it/s]\n",
      "100%|██████████| 49/49 [00:03<00:00, 15.77it/s]\n"
     ]
    },
    {
     "name": "stdout",
     "output_type": "stream",
     "text": [
      "client_5: Loss = 0.1018, Accuracy = 0.9705\n"
     ]
    },
    {
     "name": "stderr",
     "output_type": "stream",
     "text": [
      "100%|██████████| 49/49 [00:03<00:00, 15.89it/s]\n",
      "100%|██████████| 49/49 [00:03<00:00, 16.25it/s]\n",
      "100%|██████████| 49/49 [00:03<00:00, 16.27it/s]\n"
     ]
    },
    {
     "name": "stdout",
     "output_type": "stream",
     "text": [
      "client_6: Loss = 0.1162, Accuracy = 0.9678\n"
     ]
    },
    {
     "name": "stderr",
     "output_type": "stream",
     "text": [
      "100%|██████████| 49/49 [00:03<00:00, 16.01it/s]\n",
      "100%|██████████| 49/49 [00:02<00:00, 16.49it/s]\n",
      "100%|██████████| 49/49 [00:03<00:00, 16.10it/s]\n"
     ]
    },
    {
     "name": "stdout",
     "output_type": "stream",
     "text": [
      "client_7: Loss = 0.1162, Accuracy = 0.9667\n",
      "After round 7, train_loss = 0.1077, dev_loss = 0.1153, dev_acc = 0.9659\n",
      "\n",
      "Start Round 8 ...\n"
     ]
    },
    {
     "name": "stderr",
     "output_type": "stream",
     "text": [
      "100%|██████████| 49/49 [00:03<00:00, 16.24it/s]\n",
      "100%|██████████| 49/49 [00:02<00:00, 16.83it/s]\n",
      "100%|██████████| 49/49 [00:02<00:00, 17.30it/s]\n"
     ]
    },
    {
     "name": "stdout",
     "output_type": "stream",
     "text": [
      "client_0: Loss = 0.0981, Accuracy = 0.9699\n"
     ]
    },
    {
     "name": "stderr",
     "output_type": "stream",
     "text": [
      "100%|██████████| 49/49 [00:02<00:00, 16.51it/s]\n",
      "100%|██████████| 49/49 [00:02<00:00, 16.54it/s]\n",
      "100%|██████████| 49/49 [00:02<00:00, 16.86it/s]\n"
     ]
    },
    {
     "name": "stdout",
     "output_type": "stream",
     "text": [
      "client_1: Loss = 0.0913, Accuracy = 0.9742\n"
     ]
    },
    {
     "name": "stderr",
     "output_type": "stream",
     "text": [
      "100%|██████████| 49/49 [00:02<00:00, 16.69it/s]\n",
      "100%|██████████| 49/49 [00:02<00:00, 16.57it/s]\n",
      "100%|██████████| 49/49 [00:02<00:00, 16.73it/s]\n"
     ]
    },
    {
     "name": "stdout",
     "output_type": "stream",
     "text": [
      "client_2: Loss = 0.1072, Accuracy = 0.9704\n"
     ]
    },
    {
     "name": "stderr",
     "output_type": "stream",
     "text": [
      "100%|██████████| 49/49 [00:02<00:00, 16.86it/s]\n",
      "100%|██████████| 49/49 [00:03<00:00, 14.82it/s]\n",
      "100%|██████████| 49/49 [00:03<00:00, 15.16it/s]\n"
     ]
    },
    {
     "name": "stdout",
     "output_type": "stream",
     "text": [
      "client_3: Loss = 0.0948, Accuracy = 0.9721\n"
     ]
    },
    {
     "name": "stderr",
     "output_type": "stream",
     "text": [
      "100%|██████████| 49/49 [00:03<00:00, 15.85it/s]\n",
      "100%|██████████| 49/49 [00:03<00:00, 16.32it/s]\n",
      "100%|██████████| 49/49 [00:03<00:00, 16.30it/s]\n"
     ]
    },
    {
     "name": "stdout",
     "output_type": "stream",
     "text": [
      "client_4: Loss = 0.0886, Accuracy = 0.9758\n"
     ]
    },
    {
     "name": "stderr",
     "output_type": "stream",
     "text": [
      "100%|██████████| 49/49 [00:03<00:00, 16.23it/s]\n",
      "100%|██████████| 49/49 [00:02<00:00, 16.59it/s]\n",
      "100%|██████████| 49/49 [00:02<00:00, 16.66it/s]\n"
     ]
    },
    {
     "name": "stdout",
     "output_type": "stream",
     "text": [
      "client_5: Loss = 0.0893, Accuracy = 0.9734\n"
     ]
    },
    {
     "name": "stderr",
     "output_type": "stream",
     "text": [
      "100%|██████████| 49/49 [00:02<00:00, 16.60it/s]\n",
      "100%|██████████| 49/49 [00:02<00:00, 16.57it/s]\n",
      "100%|██████████| 49/49 [00:03<00:00, 16.24it/s]\n"
     ]
    },
    {
     "name": "stdout",
     "output_type": "stream",
     "text": [
      "client_6: Loss = 0.1046, Accuracy = 0.9696\n"
     ]
    },
    {
     "name": "stderr",
     "output_type": "stream",
     "text": [
      "100%|██████████| 49/49 [00:02<00:00, 16.73it/s]\n",
      "100%|██████████| 49/49 [00:02<00:00, 16.37it/s]\n",
      "100%|██████████| 49/49 [00:02<00:00, 16.84it/s]\n"
     ]
    },
    {
     "name": "stdout",
     "output_type": "stream",
     "text": [
      "client_7: Loss = 0.1031, Accuracy = 0.9717\n",
      "After round 8, train_loss = 0.0983, dev_loss = 0.1064, dev_acc = 0.9676\n",
      "\n",
      "Start Round 9 ...\n"
     ]
    },
    {
     "name": "stderr",
     "output_type": "stream",
     "text": [
      "100%|██████████| 49/49 [00:03<00:00, 16.25it/s]\n",
      "100%|██████████| 49/49 [00:02<00:00, 16.69it/s]\n",
      "100%|██████████| 49/49 [00:02<00:00, 16.50it/s]\n"
     ]
    },
    {
     "name": "stdout",
     "output_type": "stream",
     "text": [
      "client_0: Loss = 0.0879, Accuracy = 0.9737\n"
     ]
    },
    {
     "name": "stderr",
     "output_type": "stream",
     "text": [
      "100%|██████████| 49/49 [00:02<00:00, 16.63it/s]\n",
      "100%|██████████| 49/49 [00:02<00:00, 16.89it/s]\n",
      "100%|██████████| 49/49 [00:02<00:00, 16.75it/s]\n"
     ]
    },
    {
     "name": "stdout",
     "output_type": "stream",
     "text": [
      "client_1: Loss = 0.0828, Accuracy = 0.9757\n"
     ]
    },
    {
     "name": "stderr",
     "output_type": "stream",
     "text": [
      "100%|██████████| 49/49 [00:03<00:00, 16.25it/s]\n",
      "100%|██████████| 49/49 [00:02<00:00, 16.73it/s]\n",
      "100%|██████████| 49/49 [00:03<00:00, 16.07it/s]\n"
     ]
    },
    {
     "name": "stdout",
     "output_type": "stream",
     "text": [
      "client_2: Loss = 0.099, Accuracy = 0.9724\n"
     ]
    },
    {
     "name": "stderr",
     "output_type": "stream",
     "text": [
      "100%|██████████| 49/49 [00:02<00:00, 16.83it/s]\n",
      "100%|██████████| 49/49 [00:02<00:00, 17.26it/s]\n",
      "100%|██████████| 49/49 [00:02<00:00, 17.17it/s]\n"
     ]
    },
    {
     "name": "stdout",
     "output_type": "stream",
     "text": [
      "client_3: Loss = 0.0888, Accuracy = 0.9747\n"
     ]
    },
    {
     "name": "stderr",
     "output_type": "stream",
     "text": [
      "100%|██████████| 49/49 [00:03<00:00, 15.26it/s]\n",
      "100%|██████████| 49/49 [00:03<00:00, 15.31it/s]\n",
      "100%|██████████| 49/49 [00:02<00:00, 16.45it/s]\n"
     ]
    },
    {
     "name": "stdout",
     "output_type": "stream",
     "text": [
      "client_4: Loss = 0.0823, Accuracy = 0.9777\n"
     ]
    },
    {
     "name": "stderr",
     "output_type": "stream",
     "text": [
      "100%|██████████| 49/49 [00:03<00:00, 15.96it/s]\n",
      "100%|██████████| 49/49 [00:02<00:00, 16.63it/s]\n",
      "100%|██████████| 49/49 [00:02<00:00, 16.98it/s]\n"
     ]
    },
    {
     "name": "stdout",
     "output_type": "stream",
     "text": [
      "client_5: Loss = 0.0816, Accuracy = 0.9756\n"
     ]
    },
    {
     "name": "stderr",
     "output_type": "stream",
     "text": [
      "100%|██████████| 49/49 [00:02<00:00, 16.56it/s]\n",
      "100%|██████████| 49/49 [00:03<00:00, 16.28it/s]\n",
      "100%|██████████| 49/49 [00:02<00:00, 16.48it/s]\n"
     ]
    },
    {
     "name": "stdout",
     "output_type": "stream",
     "text": [
      "client_6: Loss = 0.0952, Accuracy = 0.9726\n"
     ]
    },
    {
     "name": "stderr",
     "output_type": "stream",
     "text": [
      "100%|██████████| 49/49 [00:03<00:00, 15.75it/s]\n",
      "100%|██████████| 49/49 [00:02<00:00, 16.75it/s]\n",
      "100%|██████████| 49/49 [00:02<00:00, 16.64it/s]\n"
     ]
    },
    {
     "name": "stdout",
     "output_type": "stream",
     "text": [
      "client_7: Loss = 0.0935, Accuracy = 0.976\n",
      "After round 9, train_loss = 0.0895, dev_loss = 0.0985, dev_acc = 0.9705\n",
      "\n",
      "Start Round 10 ...\n"
     ]
    },
    {
     "name": "stderr",
     "output_type": "stream",
     "text": [
      "100%|██████████| 49/49 [00:02<00:00, 16.67it/s]\n",
      "100%|██████████| 49/49 [00:03<00:00, 16.18it/s]\n",
      "100%|██████████| 49/49 [00:02<00:00, 16.66it/s]\n"
     ]
    },
    {
     "name": "stdout",
     "output_type": "stream",
     "text": [
      "client_0: Loss = 0.0816, Accuracy = 0.9761\n"
     ]
    },
    {
     "name": "stderr",
     "output_type": "stream",
     "text": [
      "100%|██████████| 49/49 [00:03<00:00, 16.24it/s]\n",
      "100%|██████████| 49/49 [00:02<00:00, 16.40it/s]\n",
      "100%|██████████| 49/49 [00:03<00:00, 15.71it/s]\n"
     ]
    },
    {
     "name": "stdout",
     "output_type": "stream",
     "text": [
      "client_1: Loss = 0.0741, Accuracy = 0.9797\n"
     ]
    },
    {
     "name": "stderr",
     "output_type": "stream",
     "text": [
      "100%|██████████| 49/49 [00:03<00:00, 15.41it/s]\n",
      "100%|██████████| 49/49 [00:02<00:00, 16.82it/s]\n",
      "100%|██████████| 49/49 [00:02<00:00, 16.67it/s]\n"
     ]
    },
    {
     "name": "stdout",
     "output_type": "stream",
     "text": [
      "client_2: Loss = 0.0891, Accuracy = 0.9756\n"
     ]
    },
    {
     "name": "stderr",
     "output_type": "stream",
     "text": [
      "100%|██████████| 49/49 [00:02<00:00, 16.49it/s]\n",
      "100%|██████████| 49/49 [00:02<00:00, 16.34it/s]\n",
      "100%|██████████| 49/49 [00:03<00:00, 16.14it/s]\n"
     ]
    },
    {
     "name": "stdout",
     "output_type": "stream",
     "text": [
      "client_3: Loss = 0.0837, Accuracy = 0.9754\n"
     ]
    },
    {
     "name": "stderr",
     "output_type": "stream",
     "text": [
      "100%|██████████| 49/49 [00:03<00:00, 16.26it/s]\n",
      "100%|██████████| 49/49 [00:02<00:00, 16.57it/s]\n",
      "100%|██████████| 49/49 [00:02<00:00, 16.36it/s]\n"
     ]
    },
    {
     "name": "stdout",
     "output_type": "stream",
     "text": [
      "client_4: Loss = 0.0758, Accuracy = 0.9775\n"
     ]
    },
    {
     "name": "stderr",
     "output_type": "stream",
     "text": [
      "100%|██████████| 49/49 [00:03<00:00, 16.10it/s]\n",
      "100%|██████████| 49/49 [00:02<00:00, 16.81it/s]\n",
      "100%|██████████| 49/49 [00:03<00:00, 15.83it/s]\n"
     ]
    },
    {
     "name": "stdout",
     "output_type": "stream",
     "text": [
      "client_5: Loss = 0.074, Accuracy = 0.9774\n"
     ]
    },
    {
     "name": "stderr",
     "output_type": "stream",
     "text": [
      "100%|██████████| 49/49 [00:02<00:00, 17.14it/s]\n",
      "100%|██████████| 49/49 [00:02<00:00, 16.89it/s]\n",
      "100%|██████████| 49/49 [00:02<00:00, 16.67it/s]\n"
     ]
    },
    {
     "name": "stdout",
     "output_type": "stream",
     "text": [
      "client_6: Loss = 0.0879, Accuracy = 0.9766\n"
     ]
    },
    {
     "name": "stderr",
     "output_type": "stream",
     "text": [
      "100%|██████████| 49/49 [00:02<00:00, 16.77it/s]\n",
      "100%|██████████| 49/49 [00:03<00:00, 15.66it/s]\n",
      "100%|██████████| 49/49 [00:02<00:00, 16.40it/s]\n"
     ]
    },
    {
     "name": "stdout",
     "output_type": "stream",
     "text": [
      "client_7: Loss = 0.0866, Accuracy = 0.9775\n",
      "After round 10, train_loss = 0.0824, dev_loss = 0.0924, dev_acc = 0.9718\n",
      "\n",
      "Start Round 11 ...\n"
     ]
    },
    {
     "name": "stderr",
     "output_type": "stream",
     "text": [
      "100%|██████████| 49/49 [00:02<00:00, 16.89it/s]\n",
      "100%|██████████| 49/49 [00:02<00:00, 16.78it/s]\n",
      "100%|██████████| 49/49 [00:03<00:00, 16.33it/s]\n"
     ]
    },
    {
     "name": "stdout",
     "output_type": "stream",
     "text": [
      "client_0: Loss = 0.0773, Accuracy = 0.977\n"
     ]
    },
    {
     "name": "stderr",
     "output_type": "stream",
     "text": [
      "100%|██████████| 49/49 [00:02<00:00, 16.53it/s]\n",
      "100%|██████████| 49/49 [00:03<00:00, 15.60it/s]\n",
      "100%|██████████| 49/49 [00:03<00:00, 15.78it/s]\n"
     ]
    },
    {
     "name": "stdout",
     "output_type": "stream",
     "text": [
      "client_1: Loss = 0.0679, Accuracy = 0.9812\n"
     ]
    },
    {
     "name": "stderr",
     "output_type": "stream",
     "text": [
      "100%|██████████| 49/49 [00:03<00:00, 15.40it/s]\n",
      "100%|██████████| 49/49 [00:02<00:00, 16.95it/s]\n",
      "100%|██████████| 49/49 [00:02<00:00, 16.57it/s]\n"
     ]
    },
    {
     "name": "stdout",
     "output_type": "stream",
     "text": [
      "client_2: Loss = 0.0854, Accuracy = 0.9743\n"
     ]
    },
    {
     "name": "stderr",
     "output_type": "stream",
     "text": [
      "100%|██████████| 49/49 [00:03<00:00, 15.98it/s]\n",
      "100%|██████████| 49/49 [00:03<00:00, 16.15it/s]\n",
      "100%|██████████| 49/49 [00:03<00:00, 16.27it/s]\n"
     ]
    },
    {
     "name": "stdout",
     "output_type": "stream",
     "text": [
      "client_3: Loss = 0.0763, Accuracy = 0.9773\n"
     ]
    },
    {
     "name": "stderr",
     "output_type": "stream",
     "text": [
      "100%|██████████| 49/49 [00:03<00:00, 16.20it/s]\n",
      "100%|██████████| 49/49 [00:03<00:00, 16.04it/s]\n",
      "100%|██████████| 49/49 [00:02<00:00, 16.48it/s]\n"
     ]
    },
    {
     "name": "stdout",
     "output_type": "stream",
     "text": [
      "client_4: Loss = 0.0694, Accuracy = 0.9799\n"
     ]
    },
    {
     "name": "stderr",
     "output_type": "stream",
     "text": [
      "100%|██████████| 49/49 [00:03<00:00, 15.59it/s]\n",
      "100%|██████████| 49/49 [00:02<00:00, 16.54it/s]\n",
      "100%|██████████| 49/49 [00:02<00:00, 17.59it/s]\n"
     ]
    },
    {
     "name": "stdout",
     "output_type": "stream",
     "text": [
      "client_5: Loss = 0.0697, Accuracy = 0.9771\n"
     ]
    },
    {
     "name": "stderr",
     "output_type": "stream",
     "text": [
      "100%|██████████| 49/49 [00:03<00:00, 16.31it/s]\n",
      "100%|██████████| 49/49 [00:02<00:00, 16.76it/s]\n",
      "100%|██████████| 49/49 [00:03<00:00, 15.78it/s]\n"
     ]
    },
    {
     "name": "stdout",
     "output_type": "stream",
     "text": [
      "client_6: Loss = 0.0823, Accuracy = 0.9762\n"
     ]
    },
    {
     "name": "stderr",
     "output_type": "stream",
     "text": [
      "100%|██████████| 49/49 [00:03<00:00, 16.08it/s]\n",
      "100%|██████████| 49/49 [00:03<00:00, 16.17it/s]\n",
      "100%|██████████| 49/49 [00:02<00:00, 16.87it/s]\n"
     ]
    },
    {
     "name": "stdout",
     "output_type": "stream",
     "text": [
      "client_7: Loss = 0.081, Accuracy = 0.9782\n",
      "After round 11, train_loss = 0.0771, dev_loss = 0.0881, dev_acc = 0.973\n",
      "\n",
      "Start Round 12 ...\n"
     ]
    },
    {
     "name": "stderr",
     "output_type": "stream",
     "text": [
      "100%|██████████| 49/49 [00:02<00:00, 16.88it/s]\n",
      "100%|██████████| 49/49 [00:02<00:00, 17.17it/s]\n",
      "100%|██████████| 49/49 [00:03<00:00, 15.91it/s]\n"
     ]
    },
    {
     "name": "stdout",
     "output_type": "stream",
     "text": [
      "client_0: Loss = 0.0706, Accuracy = 0.979\n"
     ]
    },
    {
     "name": "stderr",
     "output_type": "stream",
     "text": [
      "100%|██████████| 49/49 [00:02<00:00, 17.06it/s]\n",
      "100%|██████████| 49/49 [00:02<00:00, 16.59it/s]\n",
      "100%|██████████| 49/49 [00:02<00:00, 17.22it/s]\n"
     ]
    },
    {
     "name": "stdout",
     "output_type": "stream",
     "text": [
      "client_1: Loss = 0.0635, Accuracy = 0.9829\n"
     ]
    },
    {
     "name": "stderr",
     "output_type": "stream",
     "text": [
      "100%|██████████| 49/49 [00:02<00:00, 16.76it/s]\n",
      "100%|██████████| 49/49 [00:02<00:00, 16.84it/s]\n",
      "100%|██████████| 49/49 [00:03<00:00, 16.08it/s]\n"
     ]
    },
    {
     "name": "stdout",
     "output_type": "stream",
     "text": [
      "client_2: Loss = 0.0802, Accuracy = 0.9777\n"
     ]
    },
    {
     "name": "stderr",
     "output_type": "stream",
     "text": [
      "100%|██████████| 49/49 [00:02<00:00, 16.84it/s]\n",
      "100%|██████████| 49/49 [00:02<00:00, 16.39it/s]\n",
      "100%|██████████| 49/49 [00:03<00:00, 16.20it/s]\n"
     ]
    },
    {
     "name": "stdout",
     "output_type": "stream",
     "text": [
      "client_3: Loss = 0.0722, Accuracy = 0.9803\n"
     ]
    },
    {
     "name": "stderr",
     "output_type": "stream",
     "text": [
      "100%|██████████| 49/49 [00:02<00:00, 16.69it/s]\n",
      "100%|██████████| 49/49 [00:03<00:00, 16.04it/s]\n",
      "100%|██████████| 49/49 [00:02<00:00, 16.49it/s]\n"
     ]
    },
    {
     "name": "stdout",
     "output_type": "stream",
     "text": [
      "client_4: Loss = 0.0665, Accuracy = 0.982\n"
     ]
    },
    {
     "name": "stderr",
     "output_type": "stream",
     "text": [
      "100%|██████████| 49/49 [00:03<00:00, 16.28it/s]\n",
      "100%|██████████| 49/49 [00:02<00:00, 16.58it/s]\n",
      "100%|██████████| 49/49 [00:03<00:00, 16.13it/s]\n"
     ]
    },
    {
     "name": "stdout",
     "output_type": "stream",
     "text": [
      "client_5: Loss = 0.064, Accuracy = 0.98\n"
     ]
    },
    {
     "name": "stderr",
     "output_type": "stream",
     "text": [
      "100%|██████████| 49/49 [00:03<00:00, 16.31it/s]\n",
      "100%|██████████| 49/49 [00:03<00:00, 16.25it/s]\n",
      "100%|██████████| 49/49 [00:02<00:00, 16.50it/s]\n"
     ]
    },
    {
     "name": "stdout",
     "output_type": "stream",
     "text": [
      "client_6: Loss = 0.0767, Accuracy = 0.9775\n"
     ]
    },
    {
     "name": "stderr",
     "output_type": "stream",
     "text": [
      "100%|██████████| 49/49 [00:02<00:00, 16.64it/s]\n",
      "100%|██████████| 49/49 [00:02<00:00, 17.03it/s]\n",
      "100%|██████████| 49/49 [00:02<00:00, 17.05it/s]\n"
     ]
    },
    {
     "name": "stdout",
     "output_type": "stream",
     "text": [
      "client_7: Loss = 0.0741, Accuracy = 0.9791\n",
      "After round 12, train_loss = 0.0744, dev_loss = 0.0858, dev_acc = 0.9734\n",
      "\n",
      "Start Round 13 ...\n"
     ]
    },
    {
     "name": "stderr",
     "output_type": "stream",
     "text": [
      "100%|██████████| 49/49 [00:02<00:00, 17.29it/s]\n",
      "100%|██████████| 49/49 [00:02<00:00, 16.39it/s]\n",
      "100%|██████████| 49/49 [00:02<00:00, 17.44it/s]\n"
     ]
    },
    {
     "name": "stdout",
     "output_type": "stream",
     "text": [
      "client_0: Loss = 0.0661, Accuracy = 0.9801\n"
     ]
    },
    {
     "name": "stderr",
     "output_type": "stream",
     "text": [
      "100%|██████████| 49/49 [00:03<00:00, 16.28it/s]\n",
      "100%|██████████| 49/49 [00:02<00:00, 16.63it/s]\n",
      "100%|██████████| 49/49 [00:02<00:00, 16.41it/s]\n"
     ]
    },
    {
     "name": "stdout",
     "output_type": "stream",
     "text": [
      "client_1: Loss = 0.0593, Accuracy = 0.985\n"
     ]
    },
    {
     "name": "stderr",
     "output_type": "stream",
     "text": [
      "100%|██████████| 49/49 [00:03<00:00, 15.85it/s]\n",
      "100%|██████████| 49/49 [00:02<00:00, 16.85it/s]\n",
      "100%|██████████| 49/49 [00:02<00:00, 16.63it/s]\n"
     ]
    },
    {
     "name": "stdout",
     "output_type": "stream",
     "text": [
      "client_2: Loss = 0.0776, Accuracy = 0.9759\n"
     ]
    },
    {
     "name": "stderr",
     "output_type": "stream",
     "text": [
      "100%|██████████| 49/49 [00:02<00:00, 16.59it/s]\n",
      "100%|██████████| 49/49 [00:02<00:00, 17.33it/s]\n",
      "100%|██████████| 49/49 [00:02<00:00, 17.63it/s]\n"
     ]
    },
    {
     "name": "stdout",
     "output_type": "stream",
     "text": [
      "client_3: Loss = 0.0687, Accuracy = 0.9795\n"
     ]
    },
    {
     "name": "stderr",
     "output_type": "stream",
     "text": [
      "100%|██████████| 49/49 [00:02<00:00, 16.45it/s]\n",
      "100%|██████████| 49/49 [00:02<00:00, 17.46it/s]\n",
      "100%|██████████| 49/49 [00:02<00:00, 18.01it/s]\n"
     ]
    },
    {
     "name": "stdout",
     "output_type": "stream",
     "text": [
      "client_4: Loss = 0.062, Accuracy = 0.9812\n"
     ]
    },
    {
     "name": "stderr",
     "output_type": "stream",
     "text": [
      "100%|██████████| 49/49 [00:02<00:00, 17.22it/s]\n",
      "100%|██████████| 49/49 [00:02<00:00, 16.75it/s]\n",
      "100%|██████████| 49/49 [00:03<00:00, 15.92it/s]\n"
     ]
    },
    {
     "name": "stdout",
     "output_type": "stream",
     "text": [
      "client_5: Loss = 0.0598, Accuracy = 0.9818\n"
     ]
    },
    {
     "name": "stderr",
     "output_type": "stream",
     "text": [
      "100%|██████████| 49/49 [00:02<00:00, 16.48it/s]\n",
      "100%|██████████| 49/49 [00:03<00:00, 16.18it/s]\n",
      "100%|██████████| 49/49 [00:02<00:00, 17.26it/s]\n"
     ]
    },
    {
     "name": "stdout",
     "output_type": "stream",
     "text": [
      "client_6: Loss = 0.0727, Accuracy = 0.9793\n"
     ]
    },
    {
     "name": "stderr",
     "output_type": "stream",
     "text": [
      "100%|██████████| 49/49 [00:02<00:00, 16.96it/s]\n",
      "100%|██████████| 49/49 [00:02<00:00, 16.94it/s]\n",
      "100%|██████████| 49/49 [00:02<00:00, 16.59it/s]\n"
     ]
    },
    {
     "name": "stdout",
     "output_type": "stream",
     "text": [
      "client_7: Loss = 0.0713, Accuracy = 0.9802\n",
      "After round 13, train_loss = 0.0689, dev_loss = 0.0806, dev_acc = 0.9752\n",
      "\n",
      "Start Round 14 ...\n"
     ]
    },
    {
     "name": "stderr",
     "output_type": "stream",
     "text": [
      "100%|██████████| 49/49 [00:02<00:00, 16.52it/s]\n",
      "100%|██████████| 49/49 [00:02<00:00, 16.82it/s]\n",
      "100%|██████████| 49/49 [00:02<00:00, 17.08it/s]\n"
     ]
    },
    {
     "name": "stdout",
     "output_type": "stream",
     "text": [
      "client_0: Loss = 0.0627, Accuracy = 0.9807\n"
     ]
    },
    {
     "name": "stderr",
     "output_type": "stream",
     "text": [
      "100%|██████████| 49/49 [00:02<00:00, 17.04it/s]\n",
      "100%|██████████| 49/49 [00:02<00:00, 16.82it/s]\n",
      "100%|██████████| 49/49 [00:03<00:00, 15.93it/s]\n"
     ]
    },
    {
     "name": "stdout",
     "output_type": "stream",
     "text": [
      "client_1: Loss = 0.0547, Accuracy = 0.9857\n"
     ]
    },
    {
     "name": "stderr",
     "output_type": "stream",
     "text": [
      "100%|██████████| 49/49 [00:02<00:00, 16.75it/s]\n",
      "100%|██████████| 49/49 [00:02<00:00, 16.74it/s]\n",
      "100%|██████████| 49/49 [00:02<00:00, 16.83it/s]\n"
     ]
    },
    {
     "name": "stdout",
     "output_type": "stream",
     "text": [
      "client_2: Loss = 0.0727, Accuracy = 0.9792\n"
     ]
    },
    {
     "name": "stderr",
     "output_type": "stream",
     "text": [
      "100%|██████████| 49/49 [00:02<00:00, 16.78it/s]\n",
      "100%|██████████| 49/49 [00:02<00:00, 16.84it/s]\n",
      "100%|██████████| 49/49 [00:02<00:00, 16.58it/s]\n"
     ]
    },
    {
     "name": "stdout",
     "output_type": "stream",
     "text": [
      "client_3: Loss = 0.0636, Accuracy = 0.9819\n"
     ]
    },
    {
     "name": "stderr",
     "output_type": "stream",
     "text": [
      "100%|██████████| 49/49 [00:02<00:00, 16.77it/s]\n",
      "100%|██████████| 49/49 [00:02<00:00, 16.76it/s]\n",
      "100%|██████████| 49/49 [00:02<00:00, 16.48it/s]\n"
     ]
    },
    {
     "name": "stdout",
     "output_type": "stream",
     "text": [
      "client_4: Loss = 0.0569, Accuracy = 0.9833\n"
     ]
    },
    {
     "name": "stderr",
     "output_type": "stream",
     "text": [
      "100%|██████████| 49/49 [00:02<00:00, 16.82it/s]\n",
      "100%|██████████| 49/49 [00:03<00:00, 16.09it/s]\n",
      "100%|██████████| 49/49 [00:02<00:00, 16.54it/s]\n"
     ]
    },
    {
     "name": "stdout",
     "output_type": "stream",
     "text": [
      "client_5: Loss = 0.0568, Accuracy = 0.983\n"
     ]
    },
    {
     "name": "stderr",
     "output_type": "stream",
     "text": [
      "100%|██████████| 49/49 [00:02<00:00, 17.01it/s]\n",
      "100%|██████████| 49/49 [00:03<00:00, 16.23it/s]\n",
      "100%|██████████| 49/49 [00:03<00:00, 16.31it/s]\n"
     ]
    },
    {
     "name": "stdout",
     "output_type": "stream",
     "text": [
      "client_6: Loss = 0.0692, Accuracy = 0.9786\n"
     ]
    },
    {
     "name": "stderr",
     "output_type": "stream",
     "text": [
      "100%|██████████| 49/49 [00:03<00:00, 15.81it/s]\n",
      "100%|██████████| 49/49 [00:02<00:00, 16.98it/s]\n",
      "100%|██████████| 49/49 [00:03<00:00, 15.46it/s]\n"
     ]
    },
    {
     "name": "stdout",
     "output_type": "stream",
     "text": [
      "client_7: Loss = 0.0688, Accuracy = 0.9812\n",
      "After round 14, train_loss = 0.0656, dev_loss = 0.0781, dev_acc = 0.9753\n",
      "\n",
      "Start Round 15 ...\n"
     ]
    },
    {
     "name": "stderr",
     "output_type": "stream",
     "text": [
      "100%|██████████| 49/49 [00:02<00:00, 17.23it/s]\n",
      "100%|██████████| 49/49 [00:02<00:00, 16.88it/s]\n",
      "100%|██████████| 49/49 [00:02<00:00, 17.07it/s]\n"
     ]
    },
    {
     "name": "stdout",
     "output_type": "stream",
     "text": [
      "client_0: Loss = 0.061, Accuracy = 0.9814\n"
     ]
    },
    {
     "name": "stderr",
     "output_type": "stream",
     "text": [
      "100%|██████████| 49/49 [00:02<00:00, 16.64it/s]\n",
      "100%|██████████| 49/49 [00:02<00:00, 17.36it/s]\n",
      "100%|██████████| 49/49 [00:02<00:00, 17.17it/s]\n"
     ]
    },
    {
     "name": "stdout",
     "output_type": "stream",
     "text": [
      "client_1: Loss = 0.0527, Accuracy = 0.9855\n"
     ]
    },
    {
     "name": "stderr",
     "output_type": "stream",
     "text": [
      "100%|██████████| 49/49 [00:02<00:00, 17.51it/s]\n",
      "100%|██████████| 49/49 [00:02<00:00, 16.61it/s]\n",
      "100%|██████████| 49/49 [00:02<00:00, 17.69it/s]\n"
     ]
    },
    {
     "name": "stdout",
     "output_type": "stream",
     "text": [
      "client_2: Loss = 0.0695, Accuracy = 0.9791\n"
     ]
    },
    {
     "name": "stderr",
     "output_type": "stream",
     "text": [
      "100%|██████████| 49/49 [00:02<00:00, 16.43it/s]\n",
      "100%|██████████| 49/49 [00:02<00:00, 17.53it/s]\n",
      "100%|██████████| 49/49 [00:02<00:00, 17.41it/s]\n"
     ]
    },
    {
     "name": "stdout",
     "output_type": "stream",
     "text": [
      "client_3: Loss = 0.0609, Accuracy = 0.9816\n"
     ]
    },
    {
     "name": "stderr",
     "output_type": "stream",
     "text": [
      "100%|██████████| 49/49 [00:02<00:00, 17.09it/s]\n",
      "100%|██████████| 49/49 [00:02<00:00, 16.98it/s]\n",
      "100%|██████████| 49/49 [00:02<00:00, 16.70it/s]\n"
     ]
    },
    {
     "name": "stdout",
     "output_type": "stream",
     "text": [
      "client_4: Loss = 0.0557, Accuracy = 0.9817\n"
     ]
    },
    {
     "name": "stderr",
     "output_type": "stream",
     "text": [
      "100%|██████████| 49/49 [00:02<00:00, 16.75it/s]\n",
      "100%|██████████| 49/49 [00:02<00:00, 17.53it/s]\n",
      "100%|██████████| 49/49 [00:02<00:00, 16.98it/s]\n"
     ]
    },
    {
     "name": "stdout",
     "output_type": "stream",
     "text": [
      "client_5: Loss = 0.0521, Accuracy = 0.9846\n"
     ]
    },
    {
     "name": "stderr",
     "output_type": "stream",
     "text": [
      "100%|██████████| 49/49 [00:02<00:00, 16.82it/s]\n",
      "100%|██████████| 49/49 [00:02<00:00, 16.99it/s]\n",
      "100%|██████████| 49/49 [00:03<00:00, 16.26it/s]\n"
     ]
    },
    {
     "name": "stdout",
     "output_type": "stream",
     "text": [
      "client_6: Loss = 0.0663, Accuracy = 0.9797\n"
     ]
    },
    {
     "name": "stderr",
     "output_type": "stream",
     "text": [
      "100%|██████████| 49/49 [00:02<00:00, 17.06it/s]\n",
      "100%|██████████| 49/49 [00:02<00:00, 17.41it/s]\n",
      "100%|██████████| 49/49 [00:02<00:00, 17.70it/s]\n"
     ]
    },
    {
     "name": "stdout",
     "output_type": "stream",
     "text": [
      "client_7: Loss = 0.0636, Accuracy = 0.9826\n",
      "After round 15, train_loss = 0.0624, dev_loss = 0.0752, dev_acc = 0.9758\n",
      "\n",
      "Start Round 16 ...\n"
     ]
    },
    {
     "name": "stderr",
     "output_type": "stream",
     "text": [
      "100%|██████████| 49/49 [00:02<00:00, 17.69it/s]\n",
      "100%|██████████| 49/49 [00:02<00:00, 17.21it/s]\n",
      "100%|██████████| 49/49 [00:02<00:00, 18.35it/s]\n"
     ]
    },
    {
     "name": "stdout",
     "output_type": "stream",
     "text": [
      "client_0: Loss = 0.0572, Accuracy = 0.983\n"
     ]
    },
    {
     "name": "stderr",
     "output_type": "stream",
     "text": [
      "100%|██████████| 49/49 [00:02<00:00, 16.55it/s]\n",
      "100%|██████████| 49/49 [00:02<00:00, 16.97it/s]\n",
      "100%|██████████| 49/49 [00:02<00:00, 17.07it/s]\n"
     ]
    },
    {
     "name": "stdout",
     "output_type": "stream",
     "text": [
      "client_1: Loss = 0.05, Accuracy = 0.9864\n"
     ]
    },
    {
     "name": "stderr",
     "output_type": "stream",
     "text": [
      "100%|██████████| 49/49 [00:02<00:00, 16.92it/s]\n",
      "100%|██████████| 49/49 [00:02<00:00, 17.17it/s]\n",
      "100%|██████████| 49/49 [00:03<00:00, 16.01it/s]\n"
     ]
    },
    {
     "name": "stdout",
     "output_type": "stream",
     "text": [
      "client_2: Loss = 0.0677, Accuracy = 0.9803\n"
     ]
    },
    {
     "name": "stderr",
     "output_type": "stream",
     "text": [
      "100%|██████████| 49/49 [00:02<00:00, 17.00it/s]\n",
      "100%|██████████| 49/49 [00:02<00:00, 17.25it/s]\n",
      "100%|██████████| 49/49 [00:02<00:00, 17.96it/s]\n"
     ]
    },
    {
     "name": "stdout",
     "output_type": "stream",
     "text": [
      "client_3: Loss = 0.0582, Accuracy = 0.9833\n"
     ]
    },
    {
     "name": "stderr",
     "output_type": "stream",
     "text": [
      "100%|██████████| 49/49 [00:02<00:00, 17.16it/s]\n",
      "100%|██████████| 49/49 [00:02<00:00, 17.52it/s]\n",
      "100%|██████████| 49/49 [00:03<00:00, 16.31it/s]\n"
     ]
    },
    {
     "name": "stdout",
     "output_type": "stream",
     "text": [
      "client_4: Loss = 0.0505, Accuracy = 0.9839\n"
     ]
    },
    {
     "name": "stderr",
     "output_type": "stream",
     "text": [
      "100%|██████████| 49/49 [00:02<00:00, 16.79it/s]\n",
      "100%|██████████| 49/49 [00:02<00:00, 16.49it/s]\n",
      "100%|██████████| 49/49 [00:02<00:00, 17.08it/s]\n"
     ]
    },
    {
     "name": "stdout",
     "output_type": "stream",
     "text": [
      "client_5: Loss = 0.0499, Accuracy = 0.9852\n"
     ]
    },
    {
     "name": "stderr",
     "output_type": "stream",
     "text": [
      "100%|██████████| 49/49 [00:02<00:00, 16.42it/s]\n",
      "100%|██████████| 49/49 [00:03<00:00, 15.94it/s]\n",
      "100%|██████████| 49/49 [00:02<00:00, 16.51it/s]\n"
     ]
    },
    {
     "name": "stdout",
     "output_type": "stream",
     "text": [
      "client_6: Loss = 0.062, Accuracy = 0.9835\n"
     ]
    },
    {
     "name": "stderr",
     "output_type": "stream",
     "text": [
      "100%|██████████| 49/49 [00:02<00:00, 16.80it/s]\n",
      "100%|██████████| 49/49 [00:02<00:00, 16.63it/s]\n",
      "100%|██████████| 49/49 [00:02<00:00, 17.06it/s]\n"
     ]
    },
    {
     "name": "stdout",
     "output_type": "stream",
     "text": [
      "client_7: Loss = 0.0611, Accuracy = 0.983\n",
      "After round 16, train_loss = 0.0598, dev_loss = 0.0732, dev_acc = 0.9769\n",
      "\n",
      "Start Round 17 ...\n"
     ]
    },
    {
     "name": "stderr",
     "output_type": "stream",
     "text": [
      "100%|██████████| 49/49 [00:02<00:00, 16.38it/s]\n",
      "100%|██████████| 49/49 [00:03<00:00, 16.11it/s]\n",
      "100%|██████████| 49/49 [00:02<00:00, 16.44it/s]\n"
     ]
    },
    {
     "name": "stdout",
     "output_type": "stream",
     "text": [
      "client_0: Loss = 0.0556, Accuracy = 0.9832\n"
     ]
    },
    {
     "name": "stderr",
     "output_type": "stream",
     "text": [
      "100%|██████████| 49/49 [00:02<00:00, 16.35it/s]\n",
      "100%|██████████| 49/49 [00:02<00:00, 16.46it/s]\n",
      "100%|██████████| 49/49 [00:02<00:00, 16.77it/s]\n"
     ]
    },
    {
     "name": "stdout",
     "output_type": "stream",
     "text": [
      "client_1: Loss = 0.0481, Accuracy = 0.9872\n"
     ]
    },
    {
     "name": "stderr",
     "output_type": "stream",
     "text": [
      "100%|██████████| 49/49 [00:02<00:00, 16.47it/s]\n",
      "100%|██████████| 49/49 [00:03<00:00, 15.90it/s]\n",
      "100%|██████████| 49/49 [00:02<00:00, 16.34it/s]\n"
     ]
    },
    {
     "name": "stdout",
     "output_type": "stream",
     "text": [
      "client_2: Loss = 0.0646, Accuracy = 0.9807\n"
     ]
    },
    {
     "name": "stderr",
     "output_type": "stream",
     "text": [
      "100%|██████████| 49/49 [00:03<00:00, 16.14it/s]\n",
      "100%|██████████| 49/49 [00:02<00:00, 16.34it/s]\n",
      "100%|██████████| 49/49 [00:02<00:00, 16.35it/s]\n"
     ]
    },
    {
     "name": "stdout",
     "output_type": "stream",
     "text": [
      "client_3: Loss = 0.0557, Accuracy = 0.9836\n"
     ]
    },
    {
     "name": "stderr",
     "output_type": "stream",
     "text": [
      "100%|██████████| 49/49 [00:03<00:00, 15.21it/s]\n",
      "100%|██████████| 49/49 [00:02<00:00, 16.51it/s]\n",
      "100%|██████████| 49/49 [00:02<00:00, 16.72it/s]\n"
     ]
    },
    {
     "name": "stdout",
     "output_type": "stream",
     "text": [
      "client_4: Loss = 0.0499, Accuracy = 0.9857\n"
     ]
    },
    {
     "name": "stderr",
     "output_type": "stream",
     "text": [
      "100%|██████████| 49/49 [00:02<00:00, 16.96it/s]\n",
      "100%|██████████| 49/49 [00:03<00:00, 16.12it/s]\n",
      "100%|██████████| 49/49 [00:03<00:00, 16.26it/s]\n"
     ]
    },
    {
     "name": "stdout",
     "output_type": "stream",
     "text": [
      "client_5: Loss = 0.0475, Accuracy = 0.9873\n"
     ]
    },
    {
     "name": "stderr",
     "output_type": "stream",
     "text": [
      "100%|██████████| 49/49 [00:03<00:00, 16.20it/s]\n",
      "100%|██████████| 49/49 [00:02<00:00, 17.29it/s]\n",
      "100%|██████████| 49/49 [00:02<00:00, 16.70it/s]\n"
     ]
    },
    {
     "name": "stdout",
     "output_type": "stream",
     "text": [
      "client_6: Loss = 0.0601, Accuracy = 0.9829\n"
     ]
    },
    {
     "name": "stderr",
     "output_type": "stream",
     "text": [
      "100%|██████████| 49/49 [00:02<00:00, 17.37it/s]\n",
      "100%|██████████| 49/49 [00:02<00:00, 16.83it/s]\n",
      "100%|██████████| 49/49 [00:03<00:00, 16.15it/s]\n"
     ]
    },
    {
     "name": "stdout",
     "output_type": "stream",
     "text": [
      "client_7: Loss = 0.0576, Accuracy = 0.984\n",
      "After round 17, train_loss = 0.0579, dev_loss = 0.0719, dev_acc = 0.9764\n",
      "\n",
      "Start Round 18 ...\n"
     ]
    },
    {
     "name": "stderr",
     "output_type": "stream",
     "text": [
      "100%|██████████| 49/49 [00:03<00:00, 15.96it/s]\n",
      "100%|██████████| 49/49 [00:02<00:00, 16.60it/s]\n",
      "100%|██████████| 49/49 [00:03<00:00, 16.22it/s]\n"
     ]
    },
    {
     "name": "stdout",
     "output_type": "stream",
     "text": [
      "client_0: Loss = 0.0532, Accuracy = 0.9842\n"
     ]
    },
    {
     "name": "stderr",
     "output_type": "stream",
     "text": [
      "100%|██████████| 49/49 [00:02<00:00, 16.66it/s]\n",
      "100%|██████████| 49/49 [00:02<00:00, 16.89it/s]\n",
      "100%|██████████| 49/49 [00:03<00:00, 15.88it/s]\n"
     ]
    },
    {
     "name": "stdout",
     "output_type": "stream",
     "text": [
      "client_1: Loss = 0.0457, Accuracy = 0.9864\n"
     ]
    },
    {
     "name": "stderr",
     "output_type": "stream",
     "text": [
      "100%|██████████| 49/49 [00:02<00:00, 16.75it/s]\n",
      "100%|██████████| 49/49 [00:02<00:00, 16.82it/s]\n",
      "100%|██████████| 49/49 [00:02<00:00, 16.59it/s]\n"
     ]
    },
    {
     "name": "stdout",
     "output_type": "stream",
     "text": [
      "client_2: Loss = 0.0627, Accuracy = 0.9812\n"
     ]
    },
    {
     "name": "stderr",
     "output_type": "stream",
     "text": [
      "100%|██████████| 49/49 [00:02<00:00, 17.14it/s]\n",
      "100%|██████████| 49/49 [00:02<00:00, 16.84it/s]\n",
      "100%|██████████| 49/49 [00:02<00:00, 16.82it/s]\n"
     ]
    },
    {
     "name": "stdout",
     "output_type": "stream",
     "text": [
      "client_3: Loss = 0.0557, Accuracy = 0.9846\n"
     ]
    },
    {
     "name": "stderr",
     "output_type": "stream",
     "text": [
      "100%|██████████| 49/49 [00:02<00:00, 16.83it/s]\n",
      "100%|██████████| 49/49 [00:02<00:00, 17.43it/s]\n",
      "100%|██████████| 49/49 [00:02<00:00, 17.16it/s]\n"
     ]
    },
    {
     "name": "stdout",
     "output_type": "stream",
     "text": [
      "client_4: Loss = 0.0463, Accuracy = 0.9863\n"
     ]
    },
    {
     "name": "stderr",
     "output_type": "stream",
     "text": [
      "100%|██████████| 49/49 [00:02<00:00, 17.18it/s]\n",
      "100%|██████████| 49/49 [00:03<00:00, 16.33it/s]\n",
      "100%|██████████| 49/49 [00:02<00:00, 17.30it/s]\n"
     ]
    },
    {
     "name": "stdout",
     "output_type": "stream",
     "text": [
      "client_5: Loss = 0.0443, Accuracy = 0.9871\n"
     ]
    },
    {
     "name": "stderr",
     "output_type": "stream",
     "text": [
      "100%|██████████| 49/49 [00:02<00:00, 17.86it/s]\n",
      "100%|██████████| 49/49 [00:02<00:00, 17.88it/s]\n",
      "100%|██████████| 49/49 [00:02<00:00, 17.83it/s]\n"
     ]
    },
    {
     "name": "stdout",
     "output_type": "stream",
     "text": [
      "client_6: Loss = 0.0592, Accuracy = 0.9829\n"
     ]
    },
    {
     "name": "stderr",
     "output_type": "stream",
     "text": [
      "100%|██████████| 49/49 [00:02<00:00, 17.16it/s]\n",
      "100%|██████████| 49/49 [00:02<00:00, 16.67it/s]\n",
      "100%|██████████| 49/49 [00:02<00:00, 17.14it/s]\n"
     ]
    },
    {
     "name": "stdout",
     "output_type": "stream",
     "text": [
      "client_7: Loss = 0.0553, Accuracy = 0.986\n",
      "After round 18, train_loss = 0.0556, dev_loss = 0.0695, dev_acc = 0.9777\n",
      "\n",
      "Start Round 19 ...\n"
     ]
    },
    {
     "name": "stderr",
     "output_type": "stream",
     "text": [
      "100%|██████████| 49/49 [00:02<00:00, 16.99it/s]\n",
      "100%|██████████| 49/49 [00:02<00:00, 17.36it/s]\n",
      "100%|██████████| 49/49 [00:02<00:00, 16.73it/s]\n"
     ]
    },
    {
     "name": "stdout",
     "output_type": "stream",
     "text": [
      "client_0: Loss = 0.0525, Accuracy = 0.9838\n"
     ]
    },
    {
     "name": "stderr",
     "output_type": "stream",
     "text": [
      "100%|██████████| 49/49 [00:02<00:00, 16.77it/s]\n",
      "100%|██████████| 49/49 [00:03<00:00, 16.19it/s]\n",
      "100%|██████████| 49/49 [00:02<00:00, 17.04it/s]\n"
     ]
    },
    {
     "name": "stdout",
     "output_type": "stream",
     "text": [
      "client_1: Loss = 0.0428, Accuracy = 0.9871\n"
     ]
    },
    {
     "name": "stderr",
     "output_type": "stream",
     "text": [
      "100%|██████████| 49/49 [00:02<00:00, 17.57it/s]\n",
      "100%|██████████| 49/49 [00:02<00:00, 17.35it/s]\n",
      "100%|██████████| 49/49 [00:02<00:00, 16.86it/s]\n"
     ]
    },
    {
     "name": "stdout",
     "output_type": "stream",
     "text": [
      "client_2: Loss = 0.0594, Accuracy = 0.9815\n"
     ]
    },
    {
     "name": "stderr",
     "output_type": "stream",
     "text": [
      "100%|██████████| 49/49 [00:02<00:00, 17.07it/s]\n",
      "100%|██████████| 49/49 [00:03<00:00, 15.84it/s]\n",
      "100%|██████████| 49/49 [00:02<00:00, 16.46it/s]\n"
     ]
    },
    {
     "name": "stdout",
     "output_type": "stream",
     "text": [
      "client_3: Loss = 0.0516, Accuracy = 0.9856\n"
     ]
    },
    {
     "name": "stderr",
     "output_type": "stream",
     "text": [
      "100%|██████████| 49/49 [00:02<00:00, 16.53it/s]\n",
      "100%|██████████| 49/49 [00:02<00:00, 16.98it/s]\n",
      "100%|██████████| 49/49 [00:02<00:00, 16.41it/s]\n"
     ]
    },
    {
     "name": "stdout",
     "output_type": "stream",
     "text": [
      "client_4: Loss = 0.0452, Accuracy = 0.9866\n"
     ]
    },
    {
     "name": "stderr",
     "output_type": "stream",
     "text": [
      "100%|██████████| 49/49 [00:03<00:00, 15.98it/s]\n",
      "100%|██████████| 49/49 [00:02<00:00, 17.06it/s]\n",
      "100%|██████████| 49/49 [00:02<00:00, 16.72it/s]\n"
     ]
    },
    {
     "name": "stdout",
     "output_type": "stream",
     "text": [
      "client_5: Loss = 0.0439, Accuracy = 0.9866\n"
     ]
    },
    {
     "name": "stderr",
     "output_type": "stream",
     "text": [
      "100%|██████████| 49/49 [00:02<00:00, 17.06it/s]\n",
      "100%|██████████| 49/49 [00:02<00:00, 16.92it/s]\n",
      "100%|██████████| 49/49 [00:02<00:00, 16.98it/s]\n"
     ]
    },
    {
     "name": "stdout",
     "output_type": "stream",
     "text": [
      "client_6: Loss = 0.0563, Accuracy = 0.9824\n"
     ]
    },
    {
     "name": "stderr",
     "output_type": "stream",
     "text": [
      "100%|██████████| 49/49 [00:03<00:00, 16.05it/s]\n",
      "100%|██████████| 49/49 [00:02<00:00, 16.50it/s]\n",
      "100%|██████████| 49/49 [00:02<00:00, 16.80it/s]\n"
     ]
    },
    {
     "name": "stdout",
     "output_type": "stream",
     "text": [
      "client_7: Loss = 0.0542, Accuracy = 0.985\n",
      "After round 19, train_loss = 0.0545, dev_loss = 0.0686, dev_acc = 0.9783\n",
      "\n",
      "Start Round 20 ...\n"
     ]
    },
    {
     "name": "stderr",
     "output_type": "stream",
     "text": [
      "100%|██████████| 49/49 [00:02<00:00, 16.86it/s]\n",
      "100%|██████████| 49/49 [00:02<00:00, 16.73it/s]\n",
      "100%|██████████| 49/49 [00:02<00:00, 16.49it/s]\n"
     ]
    },
    {
     "name": "stdout",
     "output_type": "stream",
     "text": [
      "client_0: Loss = 0.0492, Accuracy = 0.9839\n"
     ]
    },
    {
     "name": "stderr",
     "output_type": "stream",
     "text": [
      "100%|██████████| 49/49 [00:03<00:00, 16.19it/s]\n",
      "100%|██████████| 49/49 [00:02<00:00, 16.93it/s]\n",
      "100%|██████████| 49/49 [00:02<00:00, 16.46it/s]\n"
     ]
    },
    {
     "name": "stdout",
     "output_type": "stream",
     "text": [
      "client_1: Loss = 0.0418, Accuracy = 0.9883\n"
     ]
    },
    {
     "name": "stderr",
     "output_type": "stream",
     "text": [
      "100%|██████████| 49/49 [00:02<00:00, 16.48it/s]\n",
      "100%|██████████| 49/49 [00:02<00:00, 17.23it/s]\n",
      "100%|██████████| 49/49 [00:03<00:00, 16.01it/s]\n"
     ]
    },
    {
     "name": "stdout",
     "output_type": "stream",
     "text": [
      "client_2: Loss = 0.0579, Accuracy = 0.9837\n"
     ]
    },
    {
     "name": "stderr",
     "output_type": "stream",
     "text": [
      "100%|██████████| 49/49 [00:02<00:00, 16.61it/s]\n",
      "100%|██████████| 49/49 [00:02<00:00, 16.96it/s]\n",
      "100%|██████████| 49/49 [00:02<00:00, 16.53it/s]\n"
     ]
    },
    {
     "name": "stdout",
     "output_type": "stream",
     "text": [
      "client_3: Loss = 0.0506, Accuracy = 0.9854\n"
     ]
    },
    {
     "name": "stderr",
     "output_type": "stream",
     "text": [
      "100%|██████████| 49/49 [00:02<00:00, 16.57it/s]\n",
      "100%|██████████| 49/49 [00:03<00:00, 16.15it/s]\n",
      "100%|██████████| 49/49 [00:02<00:00, 16.58it/s]\n"
     ]
    },
    {
     "name": "stdout",
     "output_type": "stream",
     "text": [
      "client_4: Loss = 0.0437, Accuracy = 0.9874\n"
     ]
    },
    {
     "name": "stderr",
     "output_type": "stream",
     "text": [
      "100%|██████████| 49/49 [00:02<00:00, 16.60it/s]\n",
      "100%|██████████| 49/49 [00:02<00:00, 16.87it/s]\n",
      "100%|██████████| 49/49 [00:02<00:00, 16.86it/s]\n"
     ]
    },
    {
     "name": "stdout",
     "output_type": "stream",
     "text": [
      "client_5: Loss = 0.0415, Accuracy = 0.9877\n"
     ]
    },
    {
     "name": "stderr",
     "output_type": "stream",
     "text": [
      "100%|██████████| 49/49 [00:02<00:00, 16.91it/s]\n",
      "100%|██████████| 49/49 [00:03<00:00, 15.88it/s]\n",
      "100%|██████████| 49/49 [00:02<00:00, 17.22it/s]\n"
     ]
    },
    {
     "name": "stdout",
     "output_type": "stream",
     "text": [
      "client_6: Loss = 0.054, Accuracy = 0.9843\n"
     ]
    },
    {
     "name": "stderr",
     "output_type": "stream",
     "text": [
      "100%|██████████| 49/49 [00:02<00:00, 17.13it/s]\n",
      "100%|██████████| 49/49 [00:02<00:00, 17.01it/s]\n",
      "100%|██████████| 49/49 [00:02<00:00, 16.98it/s]\n"
     ]
    },
    {
     "name": "stdout",
     "output_type": "stream",
     "text": [
      "client_7: Loss = 0.0516, Accuracy = 0.9851\n",
      "After round 20, train_loss = 0.0521, dev_loss = 0.0674, dev_acc = 0.9782\n",
      "\n"
     ]
    }
   ],
   "source": [
    "def FedAvg():\n",
    "    # Create global model, same architecture as the ones used on the clients.\n",
    "    global_net = to_device(FederatedNet(), device)\n",
    "\n",
    "    history = []\n",
    "    for i in range(rounds):\n",
    "        print('Start Round {} ...'.format(i + 1))\n",
    "        curr_parameters = global_net.get_parameters()\n",
    "        new_parameters = dict([(layer_name, {'weight': 0, 'bias': 0}) for layer_name in curr_parameters])\n",
    "\n",
    "        for client in clients:\n",
    "            # client update \n",
    "            client_parameters = client.train(curr_parameters) # w^k_t+1 <- w_t - \\eta g_k\n",
    "\n",
    "            # FedAvg aggregation \n",
    "            fraction = client.get_dataset_size() / total_train_size # n_k / n \n",
    "            for layer_name in client_parameters:\n",
    "                new_parameters[layer_name]['weight'] += fraction * client_parameters[layer_name]['weight'] #  sum n_k / n w^k_t+1\n",
    "                new_parameters[layer_name]['bias'] += fraction * client_parameters[layer_name]['bias']     # \n",
    "\n",
    "        global_net.apply_parameters(new_parameters) # w_t+1 <- sum n_k / n w^k_t+1\n",
    "\n",
    "        train_loss, train_acc = global_net.evaluate(train_dataset)\n",
    "        dev_loss, dev_acc = global_net.evaluate(dev_dataset)\n",
    "\n",
    "        print('After round {}, train_loss = {}, dev_loss = {}, dev_acc = {}\\n'.format(i + 1, round(train_loss, 4), \n",
    "                round(dev_loss, 4), round(dev_acc, 4)))\n",
    "        \n",
    "        history.append((train_loss, dev_loss))\n",
    "    return history\n",
    "\n",
    "hist = FedAvg()"
   ]
  },
  {
   "cell_type": "code",
   "execution_count": 28,
   "id": "c9262930",
   "metadata": {},
   "outputs": [
    {
     "data": {
      "image/png": "[encoded data removed]",
      "text/plain": [
       "<Figure size 500x500 with 1 Axes>"
      ]
     },
     "metadata": {},
     "output_type": "display_data"
    }
   ],
   "source": [
    "plt.plot([i + 1 for i in range(len(history))], [history[i][0] for i in range(len(history))], color='r', label='train loss')\n",
    "plt.plot([i + 1 for i in range(len(history))], [history[i][1] for i in range(len(history))], color='b', label='dev loss')\n",
    "plt.legend()\n",
    "plt.title('Training history')\n",
    "plt.show()"
   ]
  },
  {
   "cell_type": "markdown",
   "id": "da628351",
   "metadata": {},
   "source": [
    "# $\\delta$-accuracy loss "
   ]
  },
  {
   "cell_type": "markdown",
   "id": "44d4d1c3",
   "metadata": {},
   "source": [
    "Lets, respectively denote the accuracy's $\\mathcal{V}_{sum}, \\mathcal{V}_{fed}$. Let $\\delta \\in \\R_+$, if \n",
    "\n",
    "\\begin{align}\n",
    "    | \\mathcal{V}_{fed} - \\mathcal{V}_{sum} | < \\delta\n",
    "\\end{align} \n",
    "\n",
    "we say the fl alg has $\\delta$-accuracy loss."
   ]
  },
  {
   "cell_type": "markdown",
   "id": "0f5c4aba",
   "metadata": {},
   "source": [
    "$\n",
    "\\mathcal{V}_{M_{sum}} = 0.9861 \\;\\;\\;\\;\\; \\mathcal{V}_{M_{fed}} = 0.9782\n",
    "$ \n",
    "\n",
    "\n",
    "and \n",
    "\n",
    "\n",
    "$  | \\mathcal{V}_{fed} - \\mathcal{V}_{sum} |  = | 0.9782 - 0.9861 | =  0.0079 < 0.01 $\n",
    "\n",
    "\n",
    "Thus our FL alg has 0.01-accuracy loss\n"
   ]
  },
  {
   "cell_type": "markdown",
   "id": "62a75b23",
   "metadata": {},
   "source": [
    "# Biblio "
   ]
  },
  {
   "cell_type": "markdown",
   "id": "1c2ed354",
   "metadata": {},
   "source": [
    "> [Communication-Efficient Learning of Deep Networks from Decentralized Data](https://arxiv.org/abs/1602.05629)    \n",
    "> [Federated Learning, concept and applications](https://arxiv.org/abs/1902.04885)  \n",
    "> [Cross-Silo Federated Learning: Challenges and Opportunities](https://arxiv.org/abs/2206.12949)   \n"
   ]
  }
 ],
 "metadata": {
  "kernelspec": {
   "display_name": "Python 3 (ipykernel)",
   "language": "python",
   "name": "python3"
  },
  "language_info": {
   "codemirror_mode": {
    "name": "ipython",
    "version": 3
   },
   "file_extension": ".py",
   "mimetype": "text/x-python",
   "name": "python",
   "nbconvert_exporter": "python",
   "pygments_lexer": "ipython3",
   "version": "3.11.7"
  },
  "toc": {
   "base_numbering": 1,
   "nav_menu": {},
   "number_sections": true,
   "sideBar": true,
   "skip_h1_title": false,
   "title_cell": "Table of Contents",
   "title_sidebar": "Contents",
   "toc_cell": false,
   "toc_position": {},
   "toc_section_display": true,
   "toc_window_display": false
  },
  "varInspector": {
   "cols": {
    "lenName": 16,
    "lenType": 16,
    "lenVar": 40
   },
   "kernels_config": {
    "python": {
     "delete_cmd_postfix": "",
     "delete_cmd_prefix": "del ",
     "library": "var_list.py",
     "varRefreshCmd": "print(var_dic_list())"
    },
    "r": {
     "delete_cmd_postfix": ") ",
     "delete_cmd_prefix": "rm(",
     "library": "var_list.r",
     "varRefreshCmd": "cat(var_dic_list()) "
    }
   },
   "types_to_exclude": [
    "module",
    "function",
    "builtin_function_or_method",
    "instance",
    "_Feature"
   ],
   "window_display": false
  }
 },
 "nbformat": 4,
 "nbformat_minor": 5
}
